{
  "cells": [
    {
      "cell_type": "code",
      "execution_count": null,
      "metadata": {
        "colab": {
          "base_uri": "https://localhost:8080/"
        },
        "id": "s7AaYjGgDSf5",
        "outputId": "a19c3f53-1486-4637-dded-3a1494f7610d"
      },
      "outputs": [
        {
          "name": "stdout",
          "output_type": "stream",
          "text": [
            "Mounted at /content/gdrive\n"
          ]
        }
      ],
      "source": [
        "# Importing dataset\n",
        "from google.colab import drive\n",
        "drive.mount(\"/content/gdrive\")"
      ]
    },
    {
      "cell_type": "code",
      "execution_count": null,
      "metadata": {
        "id": "StWajoB_DD7W"
      },
      "outputs": [],
      "source": [
        "import numpy as np # linear algebra\n",
        "import pandas as pd # data processing, CSV file I/O (e.g. pd.read_csv)\n",
        "import os\n",
        "import matplotlib.pyplot as plt\n",
        "from sklearn.model_selection import train_test_split"
      ]
    },
    {
      "cell_type": "code",
      "execution_count": null,
      "metadata": {
        "id": "OiHAdZKJDD7Y"
      },
      "outputs": [],
      "source": [
        "import numpy as np\n",
        "import pandas as pd\n",
        "import nltk\n",
        "import re\n",
        "from bs4 import BeautifulSoup\n",
        "from tqdm.auto import tqdm"
      ]
    },
    {
      "cell_type": "code",
      "execution_count": null,
      "metadata": {
        "id": "-CGymYCRDD7e"
      },
      "outputs": [],
      "source": [
        "df_violence = pd.read_csv('/content/gdrive/My Drive/Kids-In-Mind/Kids_in_mind_A_B_C.csv')"
      ]
    },
    {
      "cell_type": "code",
      "execution_count": null,
      "metadata": {
        "id": "3wUlb_HlMhfU"
      },
      "outputs": [],
      "source": [
        "df1 = pd.read_csv(\"/content/gdrive/My Drive/Kids-In-Mind/subtitles2.csv\")\n",
        "df2 = pd.read_csv(\"/content/gdrive/My Drive/Kids-In-Mind/subtitles3.csv\")\n",
        "df_language = pd.concat([df1, df2],ignore_index=True)"
      ]
    },
    {
      "cell_type": "code",
      "execution_count": null,
      "metadata": {
        "id": "sng8JscF_6M3"
      },
      "outputs": [],
      "source": [
        "%%capture\n",
        "!pip install transformers"
      ]
    },
    {
      "cell_type": "code",
      "execution_count": null,
      "metadata": {
        "colab": {
          "base_uri": "https://localhost:8080/"
        },
        "id": "7J2OS6XeGuov",
        "outputId": "fdade0e9-399b-4dfc-fc97-31e887f172c5"
      },
      "outputs": [
        {
          "name": "stderr",
          "output_type": "stream",
          "text": [
            "[nltk_data] Downloading package stopwords to /root/nltk_data...\n",
            "[nltk_data]   Unzipping corpora/stopwords.zip.\n",
            "[nltk_data] Downloading package wordnet to /root/nltk_data...\n",
            "[nltk_data] Downloading package averaged_perceptron_tagger to\n",
            "[nltk_data]     /root/nltk_data...\n",
            "[nltk_data]   Unzipping taggers/averaged_perceptron_tagger.zip.\n",
            "[nltk_data] Downloading package stopwords to /root/nltk_data...\n",
            "[nltk_data]   Package stopwords is already up-to-date!\n",
            "[nltk_data] Downloading package punkt to /root/nltk_data...\n",
            "[nltk_data]   Unzipping tokenizers/punkt.zip.\n",
            "[nltk_data] Downloading package wordnet to /root/nltk_data...\n",
            "[nltk_data]   Package wordnet is already up-to-date!\n",
            "[nltk_data] Downloading package omw-1.4 to /root/nltk_data...\n"
          ]
        }
      ],
      "source": [
        "nltk.download('stopwords')\n",
        "nltk.download('wordnet')\n",
        "nltk.download('averaged_perceptron_tagger')\n",
        "from nltk.stem import WordNetLemmatizer\n",
        "from nltk.corpus import stopwords\n",
        "from nltk.corpus import wordnet\n",
        "# from emoji import demojize\n",
        "import re\n",
        "import nltk\n",
        "import string\n",
        "from nltk.tokenize import word_tokenize\n",
        "from nltk.corpus import stopwords\n",
        "from nltk.stem import WordNetLemmatizer\n",
        "nltk.download('stopwords')\n",
        "nltk.download('punkt')\n",
        "nltk.download('wordnet')\n",
        "nltk.download('omw-1.4')\n",
        "tokens = word_tokenize(str(df_language['Subtitles']))\n",
        "lemmatizer = WordNetLemmatizer()"
      ]
    },
    {
      "cell_type": "code",
      "execution_count": null,
      "metadata": {
        "id": "9e8xRv0wHAar"
      },
      "outputs": [],
      "source": [
        "def TextClean_Final(text):\n",
        "  text =str(text)\n",
        "  text = text.lower()\n",
        "  #text = re.sub(r'@[a-z0-9_]\\S+' , '', text)\n",
        "  #text = re.sub(r'&[a-z0-9_]\\S+','',text)\n",
        "  #text = re.sub(r'rt[\\s]+', '', text)\n",
        "  text = re.sub(r'\\$', '', text)\n",
        "  #text = re.sub(r'rt+', '', text)\n",
        "    # TO remove HTML tags\n",
        "  CLEANR = re.compile('<.*?>') \n",
        "  text = re.sub(CLEANR, '', text)\n",
        "  \n",
        "  tokens = word_tokenize(text)\n",
        "  text = tokens\n",
        "  table = str.maketrans('', '', string.punctuation)\n",
        "  stripped = [w.translate(table) for w in tokens]\n",
        "  text = [word for word in stripped if word.isalpha()]\n",
        "  stop_words = set(stopwords.words('english'))\n",
        "  text = [w for w in text if not w in stop_words]\n",
        "  text = [lemmatizer.lemmatize(word) for word in text]\n",
        "  return ','.join(text)"
      ]
    },
    {
      "cell_type": "code",
      "execution_count": null,
      "metadata": {
        "id": "CJIMT4qfHC7C"
      },
      "outputs": [],
      "source": [
        "df_language['Subtitle_Clean'] = df_language['Subtitles'].apply(TextClean_Final)"
      ]
    },
    {
      "cell_type": "code",
      "execution_count": null,
      "metadata": {
        "id": "uV9U3jQ8OXWf"
      },
      "outputs": [],
      "source": [
        "# Violence\n",
        "X_train, X_test , y_train, y_test = train_test_split(df_violence['Violence_Gore_Description'],df_violence['Violence_Gore'],test_size=0.2,random_state=123)"
      ]
    },
    {
      "cell_type": "code",
      "execution_count": null,
      "metadata": {
        "id": "Pwd3KriSQUc2"
      },
      "outputs": [],
      "source": [
        "# Language\n",
        "X_train0, X_test0 , y_train0, y_test0 = train_test_split(df_language['Subtitle_Clean'],df_language['Language'],test_size=0.2,random_state=123)"
      ]
    },
    {
      "cell_type": "markdown",
      "metadata": {
        "id": "3i57c89ZMiUR"
      },
      "source": [
        "#BERT"
      ]
    },
    {
      "cell_type": "code",
      "execution_count": null,
      "metadata": {
        "colab": {
          "base_uri": "https://localhost:8080/"
        },
        "id": "OhbX2lCOMmyt",
        "outputId": "edd0f46f-1d86-4afc-cb1f-3d096ac8391b"
      },
      "outputs": [
        {
          "name": "stdout",
          "output_type": "stream",
          "text": [
            "Class=4, n=765 (16.225%)\n",
            "Class=5, n=599 (12.704%)\n",
            "Class=3, n=871 (18.473%)\n",
            "Class=2, n=448 (9.502%)\n",
            "Class=6, n=636 (13.489%)\n",
            "Class=8, n=348 (7.381%)\n",
            "Class=7, n=545 (11.559%)\n",
            "Class=1, n=182 (3.860%)\n",
            "Class=0, n=48 (1.018%)\n",
            "Class=9, n=166 (3.521%)\n",
            "Class=10, n=107 (2.269%)\n"
          ]
        }
      ],
      "source": [
        "from collections import Counter\n",
        "counter = Counter(df['Violence_Gore'])\n",
        "for k,v in counter.items():\n",
        "\tper = v / len(df['Violence_Gore']) * 100\n",
        "\tprint('Class=%d, n=%d (%.3f%%)' % (k, v, per))"
      ]
    },
    {
      "cell_type": "code",
      "execution_count": null,
      "metadata": {
        "id": "FJQKa8YnDD7i"
      },
      "outputs": [],
      "source": [
        "X=list(df['Violence_Gore_Description'])\n",
        "y=list(df['Violence_Gore'])"
      ]
    },
    {
      "cell_type": "code",
      "execution_count": null,
      "metadata": {
        "id": "o4qnMhO4Yqba"
      },
      "outputs": [],
      "source": []
    },
    {
      "cell_type": "code",
      "execution_count": null,
      "metadata": {
        "id": "5jU6grLVDD7i"
      },
      "outputs": [],
      "source": [
        "from sklearn.model_selection import train_test_split\n",
        "X_train, X_test , y_train, y_test = train_test_split(X,y,test_size=0.2,random_state=42)"
      ]
    },
    {
      "cell_type": "code",
      "execution_count": null,
      "metadata": {
        "id": "zVzpBvj5DD7x"
      },
      "outputs": [],
      "source": [
        "import tensorflow as tf"
      ]
    },
    {
      "cell_type": "code",
      "execution_count": null,
      "metadata": {
        "id": "Q3hvSQ91DD7x"
      },
      "outputs": [],
      "source": [
        "tpu = tf.distribute.cluster_resolver.TPUClusterResolver.connect()\n",
        "\n",
        "# instantiate a distribution strategy\n",
        "tpu_strategy = tf.distribute.experimental.TPUStrategy(tpu)\n",
        "\n",
        "# instantiating the model in the strategy scope creates the model on the TPU"
      ]
    },
    {
      "cell_type": "markdown",
      "metadata": {
        "id": "eRGYvwNhDII3"
      },
      "source": [
        "#BERT Training"
      ]
    },
    {
      "cell_type": "code",
      "execution_count": null,
      "metadata": {
        "id": "vf1yMU7WFqbY"
      },
      "outputs": [],
      "source": [
        "%%capture\n",
        "!pip install tensorflow_addons"
      ]
    },
    {
      "cell_type": "code",
      "execution_count": null,
      "metadata": {
        "id": "CAOKNPeoFm66"
      },
      "outputs": [],
      "source": [
        "import tensorflow_addons as tfa"
      ]
    },
    {
      "cell_type": "code",
      "execution_count": null,
      "metadata": {
        "id": "l0wKzQh_DD7y"
      },
      "outputs": [],
      "source": [
        "lr=2e-05\n",
        "optimizer = tfa.optimizers.AdamW(learning_rate=lr,weight_decay=0)\n",
        "# optimizer =tf.keras.optimizers.SGD(learning_rate=0.1)"
      ]
    },
    {
      "cell_type": "code",
      "execution_count": null,
      "metadata": {
        "id": "fiaa5CJZDjbL"
      },
      "outputs": [],
      "source": [
        "%%capture\n",
        "!pip install transformers"
      ]
    },
    {
      "cell_type": "code",
      "execution_count": null,
      "metadata": {
        "id": "MhVoG4HYDD7z"
      },
      "outputs": [],
      "source": [
        "with tpu_strategy.scope():\n",
        "  from transformers import BertTokenizer, TFBertModel\n",
        "\n",
        "  import tensorflow as tf\n",
        "\n",
        "  tokenizer1 = BertTokenizer.from_pretrained(\"bert-large-uncased\")\n",
        "\n",
        "  model1 = TFBertModel.from_pretrained(\"bert-large-uncased\")\n",
        "\n",
        "  input_ids=tf.keras.Input(shape=(512),dtype=tf.int32)\n",
        "  token_type_ids=tf.keras.Input(shape=(512),dtype=tf.int32)\n",
        "  attention_mask=tf.keras.Input(shape=(512),dtype=tf.int32)\n",
        "\n",
        "  layer1=model1({'input_ids':input_ids,\n",
        "  'token_type_ids':token_type_ids,\n",
        "  'attention_mask':attention_mask})\n",
        "\n",
        "  output1=tf.math.reduce_sum(layer1.last_hidden_state,axis=1)/layer1.last_hidden_state.shape[1]\n",
        "  dense1=tf.keras.layers.Dense(1,activation='relu')(output1) #tanh\n",
        "  \n",
        "  output2=tf.math.reduce_sum(layer1.last_hidden_state,axis=1)/layer1.last_hidden_state.shape[1]\n",
        "  dense2=tf.keras.layers.Dense(1,activation='relu')(output2) #tanh\n",
        "  # dense1=tf.keras.layers.LeakyReLU(alpha=0.3)(dense1)\n",
        "\n",
        "  model3=tf.keras.Model(inputs=[input_ids,token_type_ids,attention_mask],outputs=[dense1,dense2])\n",
        "\n",
        "  # opt=tf.keras.optimizers.Adam(learning_rate=0.001)\n",
        "  model3.compile(loss=tf.keras.losses.MeanSquaredError(),optimizer=optimizer)\n",
        "  # dense2=tf.keras.layers.Dense(1)(dense1)"
      ]
    },
    {
      "cell_type": "code",
      "execution_count": null,
      "metadata": {
        "id": "8X9LDXZ6DD7z"
      },
      "outputs": [],
      "source": [
        "inputs = tokenizer1(X_train, return_tensors=\"tf\",padding='max_length',truncation=True)\n",
        "test_inputs = tokenizer1(X_test, return_tensors=\"tf\",padding='max_length',truncation=True)"
      ]
    },
    {
      "cell_type": "code",
      "execution_count": null,
      "metadata": {
        "id": "HyAF5MPhDD7z"
      },
      "outputs": [],
      "source": [
        "# Add for language\n",
        "ip1=inputs['input_ids']\n",
        "ip2=inputs['token_type_ids']\n",
        "ip3=inputs['attention_mask']\n",
        "ip1t=test_inputs['input_ids']\n",
        "ip2t=test_inputs['token_type_ids']\n",
        "ip3t=test_inputs['attention_mask']"
      ]
    },
    {
      "cell_type": "code",
      "execution_count": null,
      "metadata": {
        "id": "4_WVst8-DD7z"
      },
      "outputs": [],
      "source": [
        "# add Array of language and violence rating\n",
        "y1=tf.stack(y_train)"
      ]
    },
    {
      "cell_type": "code",
      "execution_count": null,
      "metadata": {
        "id": "8q3gZCLhDD7z"
      },
      "outputs": [],
      "source": [
        "callback1 = tf.keras.callbacks.ModelCheckpoint(\n",
        "    filepath='./bertviolence.h5',\n",
        "    save_weights_only=True,\n",
        "    monitor='val_loss',\n",
        "    mode='min',\n",
        "    verbose=1,save_best_only=True)"
      ]
    },
    {
      "cell_type": "code",
      "execution_count": null,
      "metadata": {
        "id": "O8xNlo5fDD70"
      },
      "outputs": [],
      "source": [
        "y_test1=tf.stack(y_test)"
      ]
    },
    {
      "cell_type": "code",
      "execution_count": null,
      "metadata": {
        "id": "qxlERqW_DD70"
      },
      "outputs": [],
      "source": [
        "# model3.summary()"
      ]
    },
    {
      "cell_type": "code",
      "execution_count": null,
      "metadata": {
        "colab": {
          "base_uri": "https://localhost:8080/"
        },
        "id": "SQOhR9OuDD70",
        "outputId": "3e1981ec-e326-4e84-a7cd-8eea2e218a97"
      },
      "outputs": [
        {
          "name": "stdout",
          "output_type": "stream",
          "text": [
            "Epoch 1/100\n"
          ]
        },
        {
          "name": "stderr",
          "output_type": "stream",
          "text": [
            "WARNING:tensorflow:Gradients do not exist for variables ['tf_bert_model/bert/pooler/dense/kernel:0', 'tf_bert_model/bert/pooler/dense/bias:0'] when minimizing the loss. If you're using `model.compile()`, did you forget to provide a `loss`argument?\n",
            "WARNING:tensorflow:Gradients do not exist for variables ['tf_bert_model/bert/pooler/dense/kernel:0', 'tf_bert_model/bert/pooler/dense/bias:0'] when minimizing the loss. If you're using `model.compile()`, did you forget to provide a `loss`argument?\n"
          ]
        },
        {
          "name": "stdout",
          "output_type": "stream",
          "text": [
            "59/59 [==============================] - ETA: 0s - loss: 0.9389\n",
            "Epoch 1: val_loss improved from inf to 0.49063, saving model to ./bertviolence.h5\n",
            "59/59 [==============================] - 139s 661ms/step - loss: 0.9389 - val_loss: 0.4906\n",
            "Epoch 2/100\n",
            "59/59 [==============================] - ETA: 0s - loss: 0.4157\n",
            "Epoch 2: val_loss improved from 0.49063 to 0.37511, saving model to ./bertviolence.h5\n",
            "59/59 [==============================] - 20s 332ms/step - loss: 0.4157 - val_loss: 0.3751\n",
            "Epoch 3/100\n",
            "59/59 [==============================] - ETA: 0s - loss: 0.3170\n",
            "Epoch 3: val_loss improved from 0.37511 to 0.35828, saving model to ./bertviolence.h5\n",
            "59/59 [==============================] - 19s 329ms/step - loss: 0.3170 - val_loss: 0.3583\n",
            "Epoch 4/100\n",
            "59/59 [==============================] - ETA: 0s - loss: 0.2724\n",
            "Epoch 4: val_loss did not improve from 0.35828\n",
            "59/59 [==============================] - 17s 291ms/step - loss: 0.2724 - val_loss: 0.3715\n",
            "Epoch 5/100\n",
            "59/59 [==============================] - ETA: 0s - loss: 0.2100\n",
            "Epoch 5: val_loss improved from 0.35828 to 0.35487, saving model to ./bertviolence.h5\n",
            "59/59 [==============================] - 20s 333ms/step - loss: 0.2100 - val_loss: 0.3549\n",
            "Epoch 6/100\n",
            "59/59 [==============================] - ETA: 0s - loss: 0.1795\n",
            "Epoch 6: val_loss did not improve from 0.35487\n",
            "59/59 [==============================] - 17s 292ms/step - loss: 0.1795 - val_loss: 0.3991\n",
            "Epoch 7/100\n",
            "59/59 [==============================] - ETA: 0s - loss: 0.1351\n",
            "Epoch 7: val_loss did not improve from 0.35487\n",
            "59/59 [==============================] - 17s 292ms/step - loss: 0.1351 - val_loss: 0.3695\n",
            "Epoch 8/100\n",
            "59/59 [==============================] - ETA: 0s - loss: 0.1160\n",
            "Epoch 8: val_loss did not improve from 0.35487\n",
            "59/59 [==============================] - 17s 291ms/step - loss: 0.1160 - val_loss: 0.4245\n",
            "Epoch 9/100\n",
            "59/59 [==============================] - ETA: 0s - loss: 0.0951\n",
            "Epoch 9: val_loss improved from 0.35487 to 0.34042, saving model to ./bertviolence.h5\n",
            "59/59 [==============================] - 20s 332ms/step - loss: 0.0951 - val_loss: 0.3404\n",
            "Epoch 10/100\n",
            "51/59 [========================>.....] - ETA: 2s - loss: 0.0807"
          ]
        }
      ],
      "source": [
        "history1=model3.fit([ip1,ip2,ip3],y1,epochs=100,batch_size=64,validation_data=([ip1t,ip2t,ip3t],y_test1),callbacks=[callback1])"
      ]
    },
    {
      "cell_type": "code",
      "execution_count": null,
      "metadata": {
        "id": "ICkHavlfDD73"
      },
      "outputs": [],
      "source": [
        "preds1=model3.predict([ip1t,ip2t,ip3t])"
      ]
    },
    {
      "cell_type": "code",
      "execution_count": null,
      "metadata": {
        "id": "yGoFNMPBSUZx"
      },
      "outputs": [],
      "source": [
        "y_test1"
      ]
    },
    {
      "cell_type": "code",
      "execution_count": null,
      "metadata": {
        "id": "H_j80JMGDD74"
      },
      "outputs": [],
      "source": [
        "preds1"
      ]
    },
    {
      "cell_type": "markdown",
      "metadata": {
        "id": "jv0I69_Q_zCR"
      },
      "source": [
        "#BERT Validation"
      ]
    },
    {
      "cell_type": "code",
      "execution_count": null,
      "metadata": {
        "id": "Q86ceT6oTH30"
      },
      "outputs": [],
      "source": [
        "# Validation\n",
        "df_val = pd.read_csv('/content/gdrive/My Drive/Kids-In-Mind/caption_predcitions_s_teams.csv')\n",
        "def TexttoStr_Final(text):\n",
        "  text =str(text)\n",
        "  return text\n",
        "df_val['caption'] = df_val['caption'].apply(TexttoStr_Final)"
      ]
    },
    {
      "cell_type": "code",
      "execution_count": null,
      "metadata": {
        "id": "DhRN_0NATH1w"
      },
      "outputs": [],
      "source": [
        "validation_inputs = tokenizer1(list(df_val['caption']),return_tensors=\"tf\",padding='max_length',truncation=True)"
      ]
    },
    {
      "cell_type": "code",
      "execution_count": null,
      "metadata": {
        "id": "sgs2pFERTHzW"
      },
      "outputs": [],
      "source": [
        "ip1val=validation_inputs['input_ids']\n",
        "ip2val=validation_inputs['token_type_ids']\n",
        "ip3val=validation_inputs['attention_mask']"
      ]
    },
    {
      "cell_type": "code",
      "execution_count": null,
      "metadata": {
        "id": "OyFJVOmeT_7E"
      },
      "outputs": [],
      "source": [
        "preds2=model3.predict([ip1val,ip2val,ip3val])"
      ]
    },
    {
      "cell_type": "code",
      "execution_count": null,
      "metadata": {
        "colab": {
          "base_uri": "https://localhost:8080/"
        },
        "id": "bK9Njo7QT_5h",
        "outputId": "3179550e-6a63-4499-9064-15426fd8a8cd"
      },
      "outputs": [
        {
          "data": {
            "text/plain": [
              "array([[0.7619224],\n",
              "       [1.3372272],\n",
              "       [1.0204912],\n",
              "       [1.0999912]], dtype=float32)"
            ]
          },
          "execution_count": 29,
          "metadata": {},
          "output_type": "execute_result"
        }
      ],
      "source": [
        "preds2"
      ]
    },
    {
      "cell_type": "code",
      "execution_count": null,
      "metadata": {
        "id": "mNNr9f5YT_3W"
      },
      "outputs": [],
      "source": [
        "# Oversamppling\n",
        "# Case study of any one channel"
      ]
    },
    {
      "cell_type": "code",
      "execution_count": null,
      "metadata": {
        "id": "DDijkxCcDD74"
      },
      "outputs": [],
      "source": [
        "# y_test"
      ]
    },
    {
      "cell_type": "code",
      "execution_count": null,
      "metadata": {
        "id": "1S2e9foFDD75"
      },
      "outputs": [],
      "source": [
        "# len(preds1)"
      ]
    },
    {
      "cell_type": "code",
      "execution_count": null,
      "metadata": {
        "id": "iKrAqyAeDD75"
      },
      "outputs": [],
      "source": [
        "# model3.summary()"
      ]
    },
    {
      "cell_type": "code",
      "execution_count": null,
      "metadata": {
        "id": "JGUvrkC-DD76"
      },
      "outputs": [],
      "source": [
        "# model"
      ]
    },
    {
      "cell_type": "code",
      "execution_count": null,
      "metadata": {
        "id": "sDONLNLGDD76"
      },
      "outputs": [],
      "source": [
        "ip1test=tf.cast(ip1t,tf.float32)\n",
        "ip2test=tf.cast(ip2t,tf.float32)\n",
        "ip3test=tf.cast(ip3t,tf.float32)"
      ]
    },
    {
      "cell_type": "code",
      "execution_count": null,
      "metadata": {
        "id": "FoYFhBYTDD76"
      },
      "outputs": [],
      "source": [
        "ip1t"
      ]
    },
    {
      "cell_type": "code",
      "execution_count": null,
      "metadata": {
        "id": "WmTZ83ZDDD76"
      },
      "outputs": [],
      "source": [
        "preds1=model3.predict([ip1test,ip2test,ip3test])"
      ]
    },
    {
      "cell_type": "code",
      "execution_count": null,
      "metadata": {
        "id": "o0FwXehbDD76"
      },
      "outputs": [],
      "source": [
        "preds1"
      ]
    },
    {
      "cell_type": "code",
      "execution_count": null,
      "metadata": {
        "id": "SFZfuRvvDD76"
      },
      "outputs": [],
      "source": [
        "# sarpreds.count(1)"
      ]
    },
    {
      "cell_type": "code",
      "execution_count": null,
      "metadata": {
        "id": "rzMOoMVlDD77"
      },
      "outputs": [],
      "source": [
        "# sarpreds=[]\n",
        "# for x in preds1:\n",
        "#     if x[0]>0.5:\n",
        "#         # sarpreds.append(1)\n",
        "#     else:\n",
        "#         sarpreds.append(0)"
      ]
    },
    {
      "cell_type": "code",
      "execution_count": null,
      "metadata": {
        "id": "cFJD5QvZDD77"
      },
      "outputs": [],
      "source": [
        "# tpreds=[]\n",
        "# for x in preds1:\n",
        "#     tpreds.append(x[0])"
      ]
    },
    {
      "cell_type": "code",
      "execution_count": null,
      "metadata": {
        "id": "UC79olZcDD77"
      },
      "outputs": [],
      "source": [
        "# from sklearn.metrics import accuracy_score\n",
        "# accuracy_score(y_test, sarpreds)"
      ]
    },
    {
      "cell_type": "code",
      "execution_count": null,
      "metadata": {
        "id": "-n5llGMUDD78"
      },
      "outputs": [],
      "source": [
        "# len(model3.layers[3]._layers[0]._layers[1]._layers[0])"
      ]
    },
    {
      "cell_type": "code",
      "execution_count": null,
      "metadata": {
        "id": "e9c5Rb9JDD78"
      },
      "outputs": [],
      "source": [
        "# model3.layers[3]"
      ]
    },
    {
      "cell_type": "code",
      "execution_count": null,
      "metadata": {
        "id": "Z3Xbx9RgDD78"
      },
      "outputs": [],
      "source": [
        "# for x in range(6):\n",
        "#     model3.layers[3]._layers[0]._layers[1]._layers[0][x].trainable=False"
      ]
    },
    {
      "cell_type": "code",
      "execution_count": null,
      "metadata": {
        "id": "vcyo72BZDD78"
      },
      "outputs": [],
      "source": [
        "# model3.summary()"
      ]
    },
    {
      "cell_type": "code",
      "execution_count": null,
      "metadata": {
        "id": "npfe4WU_DD78"
      },
      "outputs": [],
      "source": [
        "# model3.layers[-2].output"
      ]
    },
    {
      "cell_type": "code",
      "execution_count": null,
      "metadata": {
        "id": "A99CEXJvDD79"
      },
      "outputs": [],
      "source": [
        "# model3.load_weights()"
      ]
    },
    {
      "cell_type": "code",
      "execution_count": null,
      "metadata": {
        "id": "Mug5Or2rDD79"
      },
      "outputs": [],
      "source": [
        "# with tpu_strategy.scope():\n",
        "#     from transformers import BertTokenizer, TFBertModel\n",
        "#     ndense1=tf.keras.layers.Dense(1)(model3.layers[-2].output)\n",
        "#     transfermodel=tf.keras.Model(model3.inputs,ndense1)\n",
        "    \n",
        "# #     opt=tf.keras.optimizers.Adam(learning_rate=0.001)\n",
        "#     transfermodel.compile(loss=tf.keras.losses.MeanSquaredError(),optimizer=optimizer)"
      ]
    },
    {
      "cell_type": "code",
      "execution_count": null,
      "metadata": {
        "id": "gJqtRRNXDD7-"
      },
      "outputs": [],
      "source": [
        "# transfermodel.summary()"
      ]
    },
    {
      "cell_type": "code",
      "execution_count": null,
      "metadata": {
        "id": "igPfGl0lDD7_"
      },
      "outputs": [],
      "source": [
        "# layerd=tf.keras."
      ]
    },
    {
      "cell_type": "code",
      "execution_count": null,
      "metadata": {
        "id": "J19cwSu8DD7_"
      },
      "outputs": [],
      "source": [
        "# model1.base_model"
      ]
    },
    {
      "cell_type": "code",
      "execution_count": null,
      "metadata": {
        "id": "dlhgaD3LDD8A"
      },
      "outputs": [],
      "source": [
        "# from sklearn.metrics import mean_squared_error\n",
        "# mean_squared_error(y_test,tpreds)"
      ]
    },
    {
      "cell_type": "code",
      "execution_count": null,
      "metadata": {
        "id": "A2xN_1vBDD8A"
      },
      "outputs": [],
      "source": [
        "# import scipy\n",
        "# scipy.stats.pearsonr(y_test,tpreds)"
      ]
    },
    {
      "cell_type": "code",
      "execution_count": null,
      "metadata": {
        "id": "Rgfbbn6VDD8A"
      },
      "outputs": [],
      "source": [
        "# from sklearn.metrics import r2_score\n",
        "# r2_score(y_test,tpreds)"
      ]
    },
    {
      "cell_type": "code",
      "execution_count": null,
      "metadata": {
        "id": "oAPi1GKjDD8A"
      },
      "outputs": [],
      "source": [
        "# inputs"
      ]
    },
    {
      "cell_type": "code",
      "execution_count": null,
      "metadata": {
        "id": "_lgbm7RNDD8A"
      },
      "outputs": [],
      "source": [
        "# inputs = tokenizer([\"Hello, my dog is cute\",'this is '], return_tensors=\"tf\",padding='max')\n",
        "\n",
        "# outputs = model(inputs)\n",
        "\n",
        "# # last_hidden_states = outputs.last_hidden_state"
      ]
    },
    {
      "cell_type": "code",
      "execution_count": null,
      "metadata": {
        "id": "dYZJH_AZDD8B"
      },
      "outputs": [],
      "source": [
        "# outputs"
      ]
    },
    {
      "cell_type": "code",
      "execution_count": null,
      "metadata": {
        "id": "lZTW5V7MDD8B"
      },
      "outputs": [],
      "source": [
        "# from transformers import BertModel, BertConfig\n",
        "\n",
        "# # Initializing a BERT bert-base-uncased style configuration\n",
        "\n",
        "# configuration = BertConfig()\n",
        "\n",
        "# # Initializing a model from the bert-base-uncased style configuration\n",
        "\n",
        "# model = BertModel(configuration)\n",
        "\n",
        "# # Accessing the model configuration\n",
        "\n",
        "# configuration = model.config"
      ]
    },
    {
      "cell_type": "code",
      "execution_count": null,
      "metadata": {
        "id": "KmIedKOsDD8B"
      },
      "outputs": [],
      "source": [
        "# configuration"
      ]
    },
    {
      "cell_type": "code",
      "execution_count": null,
      "metadata": {
        "id": "hD5mI6NLDD8C"
      },
      "outputs": [],
      "source": []
    },
    {
      "cell_type": "code",
      "source": [],
      "metadata": {
        "id": "jGT3y_UmE0BS"
      },
      "execution_count": null,
      "outputs": []
    },
    {
      "cell_type": "markdown",
      "metadata": {
        "id": "BWiNTT1PE0cT"
      },
      "source": [
        "# Multi Task Bert Modal"
      ]
    },
    {
      "cell_type": "code",
      "execution_count": null,
      "metadata": {
        "id": "PvGBtGysE0cU"
      },
      "outputs": [],
      "source": [
        "%%capture\n",
        "!pip install m3tl"
      ]
    },
    {
      "cell_type": "code",
      "execution_count": null,
      "metadata": {
        "id": "2GGVGGvgE0cV"
      },
      "outputs": [],
      "source": [
        "problem_type_dict = {'violence': 'regression', 'language': 'regression'}"
      ]
    },
    {
      "cell_type": "code",
      "execution_count": null,
      "metadata": {
        "id": "SHiD2bKzE0cX"
      },
      "outputs": [],
      "source": [
        "import m3tl\n",
        "from m3tl.preproc_decorator import preprocessing_fn\n",
        "from m3tl.params import Params\n",
        "from m3tl.special_tokens import TRAIN\n",
        "@preprocessing_fn\n",
        "def violence(params: Params, mode: str):\n",
        "    \"Simple example to demonstrate singe modal tuple of list return\"\n",
        "    if mode == TRAIN:\n",
        "        toy_input = X_train\n",
        "        toy_target = y_train\n",
        "    else:\n",
        "        toy_input = X_test\n",
        "        toy_target = y_test\n",
        "    return toy_input, toy_target\n",
        "\n",
        "@preprocessing_fn\n",
        "def language(params: Params, mode: str):\n",
        "    \"Simple example to demonstrate singe modal tuple of list return\"\n",
        "    if mode == TRAIN:\n",
        "        toy_input = X_train0\n",
        "        toy_target = y_train0\n",
        "    else:\n",
        "        toy_input = X_test0\n",
        "        toy_target = y_test0\n",
        "    return toy_input, toy_target\n",
        "\n",
        "processing_fn_dict = {'violence': violence, 'language': language}"
      ]
    },
    {
      "cell_type": "code",
      "execution_count": null,
      "metadata": {
        "id": "xBiP6Po1E0cY"
      },
      "outputs": [],
      "source": [
        "from m3tl.params import Params\n",
        "params = Params()\n",
        "# specify model and its loading module\n",
        "params.transformer_model_name = 'bert-base-uncased'\n",
        "params.transformer_model_loading = 'TFBertModel'\n",
        "# specify tokenizer and its loading module\n",
        "params.transformer_tokenizer_name = 'bert-base-uncased'\n",
        "params.transformer_tokenizer_loading = 'BertTokenizer'\n",
        "# specify config and its loading module\n",
        "params.transformer_config_name = 'bert-base-uncased'\n",
        "params.transformer_config_loading = 'BertConfig'"
      ]
    },
    {
      "cell_type": "code",
      "execution_count": null,
      "metadata": {
        "colab": {
          "base_uri": "https://localhost:8080/"
        },
        "outputId": "0cca5d97-fb9d-4a2d-ab33-1d0810e29e5c",
        "id": "Apv8DlSlE0cZ"
      },
      "outputs": [
        {
          "name": "stderr",
          "output_type": "stream",
          "text": [
            "2022-08-13 07:22:19.272 | INFO     | m3tl.base_params:register_multiple_problems:543 - Adding new problem violence, problem type: regression\n",
            "2022-08-13 07:22:19.276 | INFO     | m3tl.base_params:register_multiple_problems:543 - Adding new problem language, problem type: regression\n",
            "2022-08-13 07:22:19.279 | WARNING  | m3tl.base_params:prepare_dir:363 - bert_config not exists. will load model from huggingface checkpoint.\n",
            "2022-08-13 07:22:19.895 | INFO     | m3tl.input_fn:train_eval_input_fn:59 - sampling weights: \n",
            "2022-08-13 07:22:19.898 | INFO     | m3tl.input_fn:train_eval_input_fn:60 - {\n",
            "    \"violence\": 0.9669315560112791,\n",
            "    \"language\": 0.033068443988720844\n",
            "}\n",
            "2022-08-13 07:22:20.460 | INFO     | m3tl.input_fn:train_eval_input_fn:59 - sampling weights: \n",
            "2022-08-13 07:22:20.467 | INFO     | m3tl.input_fn:train_eval_input_fn:60 - {\n",
            "    \"violence\": 0.9669315560112791,\n",
            "    \"language\": 0.033068443988720844\n",
            "}\n",
            "2022-08-13 07:22:22.819 | CRITICAL | m3tl.base_params:update_train_steps:456 - Updating train_steps to 22300\n",
            "2022-08-13 07:22:23.323 | INFO     | m3tl.input_fn:train_eval_input_fn:59 - sampling weights: \n",
            "2022-08-13 07:22:23.330 | INFO     | m3tl.input_fn:train_eval_input_fn:60 - {\n",
            "    \"violence\": 0.9669315560112791,\n",
            "    \"language\": 0.033068443988720844\n",
            "}\n",
            "Some layers from the model checkpoint at bert-base-uncased were not used when initializing TFBertModel: ['mlm___cls', 'nsp___cls']\n",
            "- This IS expected if you are initializing TFBertModel from the checkpoint of a model trained on another task or with another architecture (e.g. initializing a BertForSequenceClassification model from a BertForPreTraining model).\n",
            "- This IS NOT expected if you are initializing TFBertModel from the checkpoint of a model that you expect to be exactly identical (initializing a BertForSequenceClassification model from a BertForSequenceClassification model).\n",
            "All the layers of TFBertModel were initialized from the model checkpoint at bert-base-uncased.\n",
            "If your task is similar to the task the model of the checkpoint was trained on, you can already use TFBertModel for predictions without further training.\n",
            "2022-08-13 07:22:31.024 | CRITICAL | m3tl.embedding_layer.base:__init__:58 - Modal Type id mapping: \n",
            " {\n",
            "    \"text\": 0\n",
            "}\n",
            "2022-08-13 07:22:31.056 | INFO     | m3tl.utils:set_phase:478 - Setting phase to infer\n",
            "2022-08-13 07:22:31.072 | CRITICAL | m3tl.model_fn:compile:271 - Initial lr: 2e-05\n",
            "2022-08-13 07:22:31.074 | CRITICAL | m3tl.model_fn:compile:272 - Train steps: 22300\n",
            "2022-08-13 07:22:31.078 | CRITICAL | m3tl.model_fn:compile:273 - Warmup steps: 2230\n"
          ]
        },
        {
          "name": "stdout",
          "output_type": "stream",
          "text": [
            "Epoch 1/100\n"
          ]
        },
        {
          "name": "stderr",
          "output_type": "stream",
          "text": [
            "2022-08-13 07:22:31.517 | INFO     | m3tl.utils:set_phase:478 - Setting phase to train\n",
            "WARNING:tensorflow:The parameters `output_attentions`, `output_hidden_states` and `use_cache` cannot be updated when calling a model.They have to be set to True/False in the config object (i.e.: `config=XConfig.from_pretrained('name', output_attentions=True)`).\n",
            "WARNING:tensorflow:The parameter `return_dict` cannot be set in graph mode and will always be set to `True`.\n",
            "2022-08-13 07:22:52.561 | INFO     | m3tl.utils:set_phase:478 - Setting phase to train\n"
          ]
        },
        {
          "name": "stdout",
          "output_type": "stream",
          "text": [
            "223/223 [==============================] - ETA: 0s - mean_acc: -0.3925 - language_neg_mse: -9.7958 - violence_neg_mse: -28.2940 - BertMultiTaskTop/language/losses/0: 9.7958 - BertMultiTaskTop/violence/losses/0: 28.2940"
          ]
        },
        {
          "name": "stderr",
          "output_type": "stream",
          "text": [
            "2022-08-13 07:26:34.874 | INFO     | m3tl.utils:set_phase:478 - Setting phase to eval\n",
            "WARNING:tensorflow:The parameters `output_attentions`, `output_hidden_states` and `use_cache` cannot be updated when calling a model.They have to be set to True/False in the config object (i.e.: `config=XConfig.from_pretrained('name', output_attentions=True)`).\n",
            "WARNING:tensorflow:The parameter `return_dict` cannot be set in graph mode and will always be set to `True`.\n",
            "WARNING:tensorflow:Your input ran out of data; interrupting training. Make sure that your dataset or generator can generate at least `steps_per_epoch * epochs` batches (in this case, 1000 batches). You may need to use the repeat() function when building your dataset.\n"
          ]
        },
        {
          "name": "stdout",
          "output_type": "stream",
          "text": [
            "\b\b\b\b\b\b\b\b\b\b\b\b\b\b\b\b\b\b\b\b\b\b\b\b\b\b\b\b\b\b\b\b\b\b\b\b\b\b\b\b\b\b\b\b\b\b\b\b\b\b\b\b\b\b\b\b\b\b\b\b\b\b\b\b\b\b\b\b\b\b\b\b\b\b\b\b\b\b\b\b\b\b\b\b\b\b\b\b\b\b\b\b\b\b\b\b\b\b\b\b\b\b\b\b\b\b\b\b\b\b\b\b\b\b\b\b\b\b\b\b\b\b\b\b\b\b\b\b\b\b\b\b\b\b\b\b\b\b\b\b\b\b\b\b\b\b\b\b\b\b\b\b\b\b\b\b\b\b\b\b\b\b\b\b\b\b\b\b\b\b\b\b\b\b\b\b\b\b\b\b\b\b\b\b\b\b\b\b\b\b\b\b\b\b\b\b\b\b\b\b\b\b\b\b\b\b\b\b\b\b\b\b\b\b\b\b\b\b\r223/223 [==============================] - 275s 1s/step - mean_acc: -0.3925 - language_neg_mse: -9.7958 - violence_neg_mse: -28.2940 - BertMultiTaskTop/language/losses/0: 9.7523 - BertMultiTaskTop/violence/losses/0: 28.2768 - val_loss: 32.3729 - val_mean_acc: 0.0000e+00 - val_language_neg_mse: -7.8341 - val_violence_neg_mse: -24.5388 - val_BertMultiTaskTop/language/losses/0: 17.6911 - val_BertMultiTaskTop/violence/losses/0: 0.0000e+00\n",
            "Epoch 2/100\n",
            "223/223 [==============================] - 218s 978ms/step - mean_acc: -0.9424 - language_neg_mse: -8.7292 - violence_neg_mse: -22.7507 - BertMultiTaskTop/language/losses/0: 8.6903 - BertMultiTaskTop/violence/losses/0: 22.6985\n",
            "Epoch 3/100\n",
            "223/223 [==============================] - 217s 973ms/step - mean_acc: -0.9348 - language_neg_mse: -6.8552 - violence_neg_mse: -16.4533 - BertMultiTaskTop/language/losses/0: 6.8246 - BertMultiTaskTop/violence/losses/0: 16.4251\n",
            "Epoch 4/100\n",
            "223/223 [==============================] - 217s 972ms/step - mean_acc: -0.3495 - language_neg_mse: -6.3119 - violence_neg_mse: -10.3145 - BertMultiTaskTop/language/losses/0: 6.3328 - BertMultiTaskTop/violence/losses/0: 10.3011\n",
            "Epoch 5/100\n",
            "223/223 [==============================] - 217s 971ms/step - mean_acc: -0.6384 - language_neg_mse: -4.9665 - violence_neg_mse: -6.3471 - BertMultiTaskTop/language/losses/0: 4.9448 - BertMultiTaskTop/violence/losses/0: 6.3706\n",
            "Epoch 6/100\n",
            "223/223 [==============================] - 217s 974ms/step - mean_acc: -0.2105 - language_neg_mse: -3.7730 - violence_neg_mse: -4.6467 - BertMultiTaskTop/language/losses/0: 3.7589 - BertMultiTaskTop/violence/losses/0: 4.6430\n",
            "Epoch 7/100\n",
            "223/223 [==============================] - 216s 969ms/step - mean_acc: 0.1166 - language_neg_mse: -3.7207 - violence_neg_mse: -4.3400 - BertMultiTaskTop/language/losses/0: 3.7041 - BertMultiTaskTop/violence/losses/0: 4.3575\n",
            "Epoch 8/100\n",
            "223/223 [==============================] - 217s 971ms/step - mean_acc: -0.1995 - language_neg_mse: -4.0115 - violence_neg_mse: -4.1846 - BertMultiTaskTop/language/losses/0: 4.0224 - BertMultiTaskTop/violence/losses/0: 4.1934\n",
            "Epoch 9/100\n",
            "223/223 [==============================] - 217s 971ms/step - mean_acc: 0.0640 - language_neg_mse: -3.9397 - violence_neg_mse: -4.1711 - BertMultiTaskTop/language/losses/0: 3.9221 - BertMultiTaskTop/violence/losses/0: 4.1736\n",
            "Epoch 10/100\n",
            "223/223 [==============================] - 217s 975ms/step - mean_acc: -0.2006 - language_neg_mse: -3.4464 - violence_neg_mse: -4.1956 - BertMultiTaskTop/language/losses/0: 3.4310 - BertMultiTaskTop/violence/losses/0: 4.1973\n",
            "Epoch 11/100\n",
            "223/223 [==============================] - 216s 969ms/step - mean_acc: 0.0683 - language_neg_mse: -3.7359 - violence_neg_mse: -4.1835 - BertMultiTaskTop/language/losses/0: 3.7192 - BertMultiTaskTop/violence/losses/0: 4.1786\n",
            "Epoch 12/100\n",
            "223/223 [==============================] - 216s 970ms/step - mean_acc: 0.0624 - language_neg_mse: -3.3636 - violence_neg_mse: -4.1602 - BertMultiTaskTop/language/losses/0: 3.3485 - BertMultiTaskTop/violence/losses/0: 4.1604\n",
            "Epoch 13/100\n",
            "223/223 [==============================] - 216s 971ms/step - mean_acc: 0.0336 - language_neg_mse: -3.6719 - violence_neg_mse: -4.1709 - BertMultiTaskTop/language/losses/0: 3.6555 - BertMultiTaskTop/violence/losses/0: 4.1664\n",
            "Epoch 14/100\n",
            "223/223 [==============================] - 216s 969ms/step - mean_acc: -0.1043 - language_neg_mse: -3.9083 - violence_neg_mse: -4.1704 - BertMultiTaskTop/language/losses/0: 3.8908 - BertMultiTaskTop/violence/losses/0: 4.1632\n",
            "Epoch 15/100\n",
            "223/223 [==============================] - 216s 970ms/step - mean_acc: 0.0732 - language_neg_mse: -3.5604 - violence_neg_mse: -4.1808 - BertMultiTaskTop/language/losses/0: 3.5446 - BertMultiTaskTop/violence/losses/0: 4.1728\n",
            "Epoch 16/100\n",
            "223/223 [==============================] - 216s 969ms/step - mean_acc: -0.0368 - language_neg_mse: -3.7006 - violence_neg_mse: -4.1643 - BertMultiTaskTop/language/losses/0: 3.6841 - BertMultiTaskTop/violence/losses/0: 4.1712\n",
            "Epoch 17/100\n",
            "223/223 [==============================] - 216s 970ms/step - mean_acc: 0.0886 - language_neg_mse: -3.7823 - violence_neg_mse: -4.1683 - BertMultiTaskTop/language/losses/0: 3.7654 - BertMultiTaskTop/violence/losses/0: 4.1721\n",
            "Epoch 18/100\n",
            "223/223 [==============================] - 216s 968ms/step - mean_acc: -0.0231 - language_neg_mse: -3.4088 - violence_neg_mse: -4.1700 - BertMultiTaskTop/language/losses/0: 3.3936 - BertMultiTaskTop/violence/losses/0: 4.1636\n",
            "Epoch 19/100\n",
            "223/223 [==============================] - 216s 970ms/step - mean_acc: -0.0253 - language_neg_mse: -3.4232 - violence_neg_mse: -4.1786 - BertMultiTaskTop/language/losses/0: 3.5720 - BertMultiTaskTop/violence/losses/0: 4.1788\n",
            "Epoch 20/100\n",
            "223/223 [==============================] - 217s 971ms/step - mean_acc: -0.1001 - language_neg_mse: -3.6493 - violence_neg_mse: -4.1687 - BertMultiTaskTop/language/losses/0: 3.6331 - BertMultiTaskTop/violence/losses/0: 4.1693\n",
            "Epoch 21/100\n",
            "223/223 [==============================] - 216s 970ms/step - mean_acc: -0.0624 - language_neg_mse: -3.6558 - violence_neg_mse: -4.1598 - BertMultiTaskTop/language/losses/0: 3.6395 - BertMultiTaskTop/violence/losses/0: 4.1518\n",
            "Epoch 22/100\n",
            "223/223 [==============================] - 216s 969ms/step - mean_acc: -0.0248 - language_neg_mse: -3.6724 - violence_neg_mse: -4.1632 - BertMultiTaskTop/language/losses/0: 3.6561 - BertMultiTaskTop/violence/losses/0: 4.1542\n",
            "Epoch 23/100\n",
            "192/223 [========================>.....] - ETA: 29s - mean_acc: 0.0628 - language_neg_mse: -3.2249 - violence_neg_mse: -4.1552 - BertMultiTaskTop/language/losses/0: 3.2249 - BertMultiTaskTop/violence/losses/0: 4.1552"
          ]
        }
      ],
      "source": [
        "from m3tl.run_bert_multitask import train_bert_multitask, eval_bert_multitask, predict_bert_multitask\n",
        "problem = 'violence|language' # The dataset is different so we are using '|' . If we want to merge then we can use '&'\n",
        "params.assign_mtl_model('mmoe')\n",
        "model = train_bert_multitask(\n",
        "    problem=problem,\n",
        "    num_epochs=100,\n",
        "    problem_type_dict=problem_type_dict,\n",
        "    processing_fn_dict=processing_fn_dict,\n",
        "    continue_training=False,\n",
        "    params=params # pass params\n",
        ")"
      ]
    },
    {
      "cell_type": "code",
      "execution_count": null,
      "metadata": {
        "id": "Ge_eu3OkE0ca"
      },
      "outputs": [],
      "source": [
        "eval_dict = eval_bert_multitask(problem=problem,\n",
        "                    problem_type_dict=problem_type_dict, processing_fn_dict=processing_fn_dict,\n",
        "                    model_dir=model.params.ckpt_dir)"
      ]
    },
    {
      "cell_type": "code",
      "execution_count": null,
      "metadata": {
        "id": "uCmkGtv7E0ca"
      },
      "outputs": [],
      "source": [
        "# Training without passing any parameters\n",
        "from m3tl.run_bert_multitask import train_bert_multitask, eval_bert_multitask, predict_bert_multitask\n",
        "problem = 'violence|language'\n",
        "# train\n",
        "model = train_bert_multitask(\n",
        "    problem=problem,\n",
        "    num_epochs=10,\n",
        "    problem_type_dict=problem_type_dict,\n",
        "    processing_fn_dict=processing_fn_dict,\n",
        "    continue_training=False\n",
        ")"
      ]
    },
    {
      "cell_type": "code",
      "execution_count": null,
      "metadata": {
        "id": "dk_htlJ-E0cb"
      },
      "outputs": [],
      "source": [
        "eval_dict = eval_bert_multitask(problem=problem,\n",
        "                    problem_type_dict=problem_type_dict, processing_fn_dict=processing_fn_dict,\n",
        "                    model_dir=model.params.ckpt_dir)"
      ]
    },
    {
      "cell_type": "code",
      "execution_count": null,
      "metadata": {
        "colab": {
          "base_uri": "https://localhost:8080/"
        },
        "outputId": "b4a6259d-92dd-4381-f71c-dadc90e178a0",
        "id": "kyjzYJQkE0cc"
      },
      "outputs": [
        {
          "data": {
            "text/plain": [
              "{'BertMultiTaskTop/language/losses/0': 0.061159197241067886,\n",
              " 'BertMultiTaskTop/violence/losses/0': 2.725895881652832,\n",
              " 'language_neg_mse': -2.0558085441589355,\n",
              " 'loss': 6.19064474105835,\n",
              " 'mean_acc': 0.0,\n",
              " 'violence_neg_mse': -4.134836196899414}"
            ]
          },
          "execution_count": 18,
          "metadata": {},
          "output_type": "execute_result"
        }
      ],
      "source": [
        "eval_dict"
      ]
    },
    {
      "cell_type": "markdown",
      "metadata": {
        "id": "p9QzNMb1AeyP"
      },
      "source": [
        "# Archives"
      ]
    },
    {
      "cell_type": "code",
      "execution_count": null,
      "metadata": {
        "id": "HDfrUa40DD71"
      },
      "outputs": [],
      "source": [
        "# model3.load_weights('./bertsarct2.h5')"
      ]
    },
    {
      "cell_type": "code",
      "execution_count": null,
      "metadata": {
        "id": "kyMSrswHDD72"
      },
      "outputs": [],
      "source": [
        "# model3.summary()"
      ]
    },
    {
      "cell_type": "code",
      "execution_count": null,
      "metadata": {
        "id": "wncH0B06DD72"
      },
      "outputs": [],
      "source": [
        "# history1=transfermodel.fit([ip1,ip2,ip3],y1,epochs=10,batch_size=64,callbacks=[callback1],validation_data=([ip1t,ip2t,ip3t],y_test1))"
      ]
    },
    {
      "cell_type": "code",
      "execution_count": null,
      "metadata": {
        "id": "Jau-rMijDD72"
      },
      "outputs": [],
      "source": [
        "# model3.load_weights('./bertsarcw2.h5')"
      ]
    },
    {
      "cell_type": "code",
      "execution_count": null,
      "metadata": {
        "id": "RT_g4vtpDD73"
      },
      "outputs": [],
      "source": [
        "# plt.plot(history1.history['loss'])"
      ]
    },
    {
      "cell_type": "code",
      "execution_count": null,
      "metadata": {
        "id": "ZPbkSQ2TDD73"
      },
      "outputs": [],
      "source": [
        "# plt.figure()\n",
        "# plt.plot(history1.history['loss'])\n",
        "# plt.plot(history1.history['val_loss'])\n",
        "# # plt.savefig('rudditbertloss.png')"
      ]
    },
    {
      "cell_type": "code",
      "execution_count": null,
      "metadata": {
        "id": "4tVm727_DD73"
      },
      "outputs": [],
      "source": [
        "# transfermodel.load_weights('./bertrudditw2.h5')"
      ]
    },
    {
      "cell_type": "code",
      "execution_count": null,
      "metadata": {
        "colab": {
          "background_save": true,
          "base_uri": "https://localhost:8080/",
          "height": 145,
          "referenced_widgets": [
            "b5e8f75832734de89f540a49304607ce",
            "77b7da19b70b44099526df2afff72477",
            "13d593c93999453da3254cbcae4db402",
            "2813ca6eb48d4aafb4b2963a7b091a10",
            "67a2b00e5f5e481e945b77811fabbcce",
            "50d7754bb2e746c2b6a1edbf90193c6a",
            "1b0290b6d4e34d40b2d3e291103be320",
            "84bf36ca35314afc95740de52ca3e3f7",
            "bcd4101fdbbc4bb89706db893717a325",
            "30b04e2cf9d845f886583731451c5f08",
            "5df928e4067b4dfb8d84b73d179c1327",
            "636e137721c14a259272bc6b51d2e557",
            "f9c1b66eb11940dbb5dd6192e73404a9",
            "d43a94d75f2644b494b820227907b549",
            "f3ec6839ea2146fbaca3f848ca30a93d",
            "acb63d50913840d298f2749827e7b8f7",
            "7be475ab5132481faaa1ce9fa7f74ae1",
            "cd995bcf275a49b890da9a2afc4a0e51",
            "9f69aadbdfc6414f87ce0e17132d457b",
            "0313c58cea73437d9e2d35a53030f182",
            "57f3ec88a76045069d5325f1c371ae7f",
            "89902427c1a1401a8ea6b2655e96fb32",
            "88c759092780450cbe03bbcdba7e0234",
            "d0fc47e1eae948dfb01b67a9ab32e627",
            "aa7334fe471a4c19b4ee212901a5f768",
            "5fdb246778624f718983073f99b3c795",
            "436f77c82dbb4aef9977ca4444a2115f",
            "ddccf02489394ca58c68b063258fca41",
            "fc9928229b344ac38fb1cf93aec411cc",
            "62ab743a616c4f0d8ce5bb8463218567",
            "67ab5b293d664b838ccd4bf184095c87",
            "9a5b5dc7d2fa4b088edc3507e86ab4d6",
            "fb49ea04d62b4bbbabfef21f95e5ff73",
            "11feb252ea284a46a855935a502d63a6",
            "a34a072e4a4e43d3aa942ab151085ab4",
            "7abea991de2b466092ff7a90c4176afd",
            "ea264b4c56724cf890dd023f7eb286a8",
            "c03ab699c252434cac68b5a8c42fc1ae",
            "7dd3c86e1eda4d01bcd550ab6a2a15a4",
            "935af261a1fb4dae8f48caf7d07ebfda",
            "c1917cdacf2749f3874501a0da43d628",
            "4fc5686bcc8d48169aad4776431bb391",
            "765f8e85be704b96ac21c6bcd96ad1b8",
            "46024cfd42834f86b213b50ba4b8fbdd"
          ]
        },
        "id": "VZ7ofLWdvKnl",
        "outputId": "14353bf6-7209-4ebf-80e5-89b05aed7aed"
      },
      "outputs": [
        {
          "data": {
            "application/vnd.jupyter.widget-view+json": {
              "model_id": "b5e8f75832734de89f540a49304607ce",
              "version_major": 2,
              "version_minor": 0
            },
            "text/plain": [
              "Downloading config.json:   0%|          | 0.00/1.55k [00:00<?, ?B/s]"
            ]
          },
          "metadata": {},
          "output_type": "display_data"
        },
        {
          "data": {
            "application/vnd.jupyter.widget-view+json": {
              "model_id": "636e137721c14a259272bc6b51d2e557",
              "version_major": 2,
              "version_minor": 0
            },
            "text/plain": [
              "Downloading pytorch_model.bin:   0%|          | 0.00/1.51G [00:00<?, ?B/s]"
            ]
          },
          "metadata": {},
          "output_type": "display_data"
        },
        {
          "data": {
            "application/vnd.jupyter.widget-view+json": {
              "model_id": "88c759092780450cbe03bbcdba7e0234",
              "version_major": 2,
              "version_minor": 0
            },
            "text/plain": [
              "Downloading vocab.json:   0%|          | 0.00/878k [00:00<?, ?B/s]"
            ]
          },
          "metadata": {},
          "output_type": "display_data"
        },
        {
          "data": {
            "application/vnd.jupyter.widget-view+json": {
              "model_id": "11feb252ea284a46a855935a502d63a6",
              "version_major": 2,
              "version_minor": 0
            },
            "text/plain": [
              "Downloading merges.txt:   0%|          | 0.00/446k [00:00<?, ?B/s]"
            ]
          },
          "metadata": {},
          "output_type": "display_data"
        }
      ],
      "source": [
        "from transformers import BartTokenizer, BartForConditionalGeneration, BartConfig\n",
        "model = BartForConditionalGeneration.from_pretrained('facebook/bart-large-cnn')\n",
        "tokenizer = BartTokenizer.from_pretrained('facebook/bart-large-cnn')\n",
        "summarization2=[]\n",
        "for i in range(len(df_language)):\n",
        "  Article=str(df_language['Subtitles'][i][:1024])\n",
        "  inputs=tokenizer([Article],return_tensors='pt')\n",
        "  summary_ids = model.generate(inputs['input_ids'], num_beams=4, max_length=9023, early_stopping=True) # truncating = True\n",
        "  summary=[tokenizer.decode(g, skip_special_tokens=True, clean_up_tokenization_spaces=False) for g in summary_ids]\n",
        "  summarization2.append(summary)"
      ]
    },
    {
      "cell_type": "code",
      "execution_count": null,
      "metadata": {
        "id": "ELe4QDAcwLia"
      },
      "outputs": [],
      "source": [
        "summarization2=pd.Series(summarization2)\n",
        "summarization2"
      ]
    }
  ],
  "metadata": {
    "accelerator": "GPU",
    "colab": {
      "provenance": []
    },
    "gpuClass": "standard",
    "kernelspec": {
      "display_name": "Python 3",
      "language": "python",
      "name": "python3"
    },
    "language_info": {
      "codemirror_mode": {
        "name": "ipython",
        "version": 3
      },
      "file_extension": ".py",
      "mimetype": "text/x-python",
      "name": "python",
      "nbconvert_exporter": "python",
      "pygments_lexer": "ipython3",
      "version": "3.7.12"
    },
    "widgets": {
      "application/vnd.jupyter.widget-state+json": {
        "0313c58cea73437d9e2d35a53030f182": {
          "model_module": "@jupyter-widgets/controls",
          "model_module_version": "1.5.0",
          "model_name": "ProgressStyleModel",
          "state": {
            "_model_module": "@jupyter-widgets/controls",
            "_model_module_version": "1.5.0",
            "_model_name": "ProgressStyleModel",
            "_view_count": null,
            "_view_module": "@jupyter-widgets/base",
            "_view_module_version": "1.2.0",
            "_view_name": "StyleView",
            "bar_color": null,
            "description_width": ""
          }
        },
        "11feb252ea284a46a855935a502d63a6": {
          "model_module": "@jupyter-widgets/controls",
          "model_module_version": "1.5.0",
          "model_name": "HBoxModel",
          "state": {
            "_dom_classes": [],
            "_model_module": "@jupyter-widgets/controls",
            "_model_module_version": "1.5.0",
            "_model_name": "HBoxModel",
            "_view_count": null,
            "_view_module": "@jupyter-widgets/controls",
            "_view_module_version": "1.5.0",
            "_view_name": "HBoxView",
            "box_style": "",
            "children": [
              "IPY_MODEL_a34a072e4a4e43d3aa942ab151085ab4",
              "IPY_MODEL_7abea991de2b466092ff7a90c4176afd",
              "IPY_MODEL_ea264b4c56724cf890dd023f7eb286a8"
            ],
            "layout": "IPY_MODEL_c03ab699c252434cac68b5a8c42fc1ae"
          }
        },
        "13d593c93999453da3254cbcae4db402": {
          "model_module": "@jupyter-widgets/controls",
          "model_module_version": "1.5.0",
          "model_name": "FloatProgressModel",
          "state": {
            "_dom_classes": [],
            "_model_module": "@jupyter-widgets/controls",
            "_model_module_version": "1.5.0",
            "_model_name": "FloatProgressModel",
            "_view_count": null,
            "_view_module": "@jupyter-widgets/controls",
            "_view_module_version": "1.5.0",
            "_view_name": "ProgressView",
            "bar_style": "success",
            "description": "",
            "description_tooltip": null,
            "layout": "IPY_MODEL_84bf36ca35314afc95740de52ca3e3f7",
            "max": 1585,
            "min": 0,
            "orientation": "horizontal",
            "style": "IPY_MODEL_bcd4101fdbbc4bb89706db893717a325",
            "value": 1585
          }
        },
        "1b0290b6d4e34d40b2d3e291103be320": {
          "model_module": "@jupyter-widgets/controls",
          "model_module_version": "1.5.0",
          "model_name": "DescriptionStyleModel",
          "state": {
            "_model_module": "@jupyter-widgets/controls",
            "_model_module_version": "1.5.0",
            "_model_name": "DescriptionStyleModel",
            "_view_count": null,
            "_view_module": "@jupyter-widgets/base",
            "_view_module_version": "1.2.0",
            "_view_name": "StyleView",
            "description_width": ""
          }
        },
        "2813ca6eb48d4aafb4b2963a7b091a10": {
          "model_module": "@jupyter-widgets/controls",
          "model_module_version": "1.5.0",
          "model_name": "HTMLModel",
          "state": {
            "_dom_classes": [],
            "_model_module": "@jupyter-widgets/controls",
            "_model_module_version": "1.5.0",
            "_model_name": "HTMLModel",
            "_view_count": null,
            "_view_module": "@jupyter-widgets/controls",
            "_view_module_version": "1.5.0",
            "_view_name": "HTMLView",
            "description": "",
            "description_tooltip": null,
            "layout": "IPY_MODEL_30b04e2cf9d845f886583731451c5f08",
            "placeholder": "​",
            "style": "IPY_MODEL_5df928e4067b4dfb8d84b73d179c1327",
            "value": " 1.55k/1.55k [00:00&lt;00:00, 44.5kB/s]"
          }
        },
        "30b04e2cf9d845f886583731451c5f08": {
          "model_module": "@jupyter-widgets/base",
          "model_module_version": "1.2.0",
          "model_name": "LayoutModel",
          "state": {
            "_model_module": "@jupyter-widgets/base",
            "_model_module_version": "1.2.0",
            "_model_name": "LayoutModel",
            "_view_count": null,
            "_view_module": "@jupyter-widgets/base",
            "_view_module_version": "1.2.0",
            "_view_name": "LayoutView",
            "align_content": null,
            "align_items": null,
            "align_self": null,
            "border": null,
            "bottom": null,
            "display": null,
            "flex": null,
            "flex_flow": null,
            "grid_area": null,
            "grid_auto_columns": null,
            "grid_auto_flow": null,
            "grid_auto_rows": null,
            "grid_column": null,
            "grid_gap": null,
            "grid_row": null,
            "grid_template_areas": null,
            "grid_template_columns": null,
            "grid_template_rows": null,
            "height": null,
            "justify_content": null,
            "justify_items": null,
            "left": null,
            "margin": null,
            "max_height": null,
            "max_width": null,
            "min_height": null,
            "min_width": null,
            "object_fit": null,
            "object_position": null,
            "order": null,
            "overflow": null,
            "overflow_x": null,
            "overflow_y": null,
            "padding": null,
            "right": null,
            "top": null,
            "visibility": null,
            "width": null
          }
        },
        "436f77c82dbb4aef9977ca4444a2115f": {
          "model_module": "@jupyter-widgets/base",
          "model_module_version": "1.2.0",
          "model_name": "LayoutModel",
          "state": {
            "_model_module": "@jupyter-widgets/base",
            "_model_module_version": "1.2.0",
            "_model_name": "LayoutModel",
            "_view_count": null,
            "_view_module": "@jupyter-widgets/base",
            "_view_module_version": "1.2.0",
            "_view_name": "LayoutView",
            "align_content": null,
            "align_items": null,
            "align_self": null,
            "border": null,
            "bottom": null,
            "display": null,
            "flex": null,
            "flex_flow": null,
            "grid_area": null,
            "grid_auto_columns": null,
            "grid_auto_flow": null,
            "grid_auto_rows": null,
            "grid_column": null,
            "grid_gap": null,
            "grid_row": null,
            "grid_template_areas": null,
            "grid_template_columns": null,
            "grid_template_rows": null,
            "height": null,
            "justify_content": null,
            "justify_items": null,
            "left": null,
            "margin": null,
            "max_height": null,
            "max_width": null,
            "min_height": null,
            "min_width": null,
            "object_fit": null,
            "object_position": null,
            "order": null,
            "overflow": null,
            "overflow_x": null,
            "overflow_y": null,
            "padding": null,
            "right": null,
            "top": null,
            "visibility": null,
            "width": null
          }
        },
        "46024cfd42834f86b213b50ba4b8fbdd": {
          "model_module": "@jupyter-widgets/controls",
          "model_module_version": "1.5.0",
          "model_name": "DescriptionStyleModel",
          "state": {
            "_model_module": "@jupyter-widgets/controls",
            "_model_module_version": "1.5.0",
            "_model_name": "DescriptionStyleModel",
            "_view_count": null,
            "_view_module": "@jupyter-widgets/base",
            "_view_module_version": "1.2.0",
            "_view_name": "StyleView",
            "description_width": ""
          }
        },
        "4fc5686bcc8d48169aad4776431bb391": {
          "model_module": "@jupyter-widgets/controls",
          "model_module_version": "1.5.0",
          "model_name": "ProgressStyleModel",
          "state": {
            "_model_module": "@jupyter-widgets/controls",
            "_model_module_version": "1.5.0",
            "_model_name": "ProgressStyleModel",
            "_view_count": null,
            "_view_module": "@jupyter-widgets/base",
            "_view_module_version": "1.2.0",
            "_view_name": "StyleView",
            "bar_color": null,
            "description_width": ""
          }
        },
        "50d7754bb2e746c2b6a1edbf90193c6a": {
          "model_module": "@jupyter-widgets/base",
          "model_module_version": "1.2.0",
          "model_name": "LayoutModel",
          "state": {
            "_model_module": "@jupyter-widgets/base",
            "_model_module_version": "1.2.0",
            "_model_name": "LayoutModel",
            "_view_count": null,
            "_view_module": "@jupyter-widgets/base",
            "_view_module_version": "1.2.0",
            "_view_name": "LayoutView",
            "align_content": null,
            "align_items": null,
            "align_self": null,
            "border": null,
            "bottom": null,
            "display": null,
            "flex": null,
            "flex_flow": null,
            "grid_area": null,
            "grid_auto_columns": null,
            "grid_auto_flow": null,
            "grid_auto_rows": null,
            "grid_column": null,
            "grid_gap": null,
            "grid_row": null,
            "grid_template_areas": null,
            "grid_template_columns": null,
            "grid_template_rows": null,
            "height": null,
            "justify_content": null,
            "justify_items": null,
            "left": null,
            "margin": null,
            "max_height": null,
            "max_width": null,
            "min_height": null,
            "min_width": null,
            "object_fit": null,
            "object_position": null,
            "order": null,
            "overflow": null,
            "overflow_x": null,
            "overflow_y": null,
            "padding": null,
            "right": null,
            "top": null,
            "visibility": null,
            "width": null
          }
        },
        "57f3ec88a76045069d5325f1c371ae7f": {
          "model_module": "@jupyter-widgets/base",
          "model_module_version": "1.2.0",
          "model_name": "LayoutModel",
          "state": {
            "_model_module": "@jupyter-widgets/base",
            "_model_module_version": "1.2.0",
            "_model_name": "LayoutModel",
            "_view_count": null,
            "_view_module": "@jupyter-widgets/base",
            "_view_module_version": "1.2.0",
            "_view_name": "LayoutView",
            "align_content": null,
            "align_items": null,
            "align_self": null,
            "border": null,
            "bottom": null,
            "display": null,
            "flex": null,
            "flex_flow": null,
            "grid_area": null,
            "grid_auto_columns": null,
            "grid_auto_flow": null,
            "grid_auto_rows": null,
            "grid_column": null,
            "grid_gap": null,
            "grid_row": null,
            "grid_template_areas": null,
            "grid_template_columns": null,
            "grid_template_rows": null,
            "height": null,
            "justify_content": null,
            "justify_items": null,
            "left": null,
            "margin": null,
            "max_height": null,
            "max_width": null,
            "min_height": null,
            "min_width": null,
            "object_fit": null,
            "object_position": null,
            "order": null,
            "overflow": null,
            "overflow_x": null,
            "overflow_y": null,
            "padding": null,
            "right": null,
            "top": null,
            "visibility": null,
            "width": null
          }
        },
        "5df928e4067b4dfb8d84b73d179c1327": {
          "model_module": "@jupyter-widgets/controls",
          "model_module_version": "1.5.0",
          "model_name": "DescriptionStyleModel",
          "state": {
            "_model_module": "@jupyter-widgets/controls",
            "_model_module_version": "1.5.0",
            "_model_name": "DescriptionStyleModel",
            "_view_count": null,
            "_view_module": "@jupyter-widgets/base",
            "_view_module_version": "1.2.0",
            "_view_name": "StyleView",
            "description_width": ""
          }
        },
        "5fdb246778624f718983073f99b3c795": {
          "model_module": "@jupyter-widgets/controls",
          "model_module_version": "1.5.0",
          "model_name": "HTMLModel",
          "state": {
            "_dom_classes": [],
            "_model_module": "@jupyter-widgets/controls",
            "_model_module_version": "1.5.0",
            "_model_name": "HTMLModel",
            "_view_count": null,
            "_view_module": "@jupyter-widgets/controls",
            "_view_module_version": "1.5.0",
            "_view_name": "HTMLView",
            "description": "",
            "description_tooltip": null,
            "layout": "IPY_MODEL_9a5b5dc7d2fa4b088edc3507e86ab4d6",
            "placeholder": "​",
            "style": "IPY_MODEL_fb49ea04d62b4bbbabfef21f95e5ff73",
            "value": " 878k/878k [00:01&lt;00:00, 843kB/s]"
          }
        },
        "62ab743a616c4f0d8ce5bb8463218567": {
          "model_module": "@jupyter-widgets/base",
          "model_module_version": "1.2.0",
          "model_name": "LayoutModel",
          "state": {
            "_model_module": "@jupyter-widgets/base",
            "_model_module_version": "1.2.0",
            "_model_name": "LayoutModel",
            "_view_count": null,
            "_view_module": "@jupyter-widgets/base",
            "_view_module_version": "1.2.0",
            "_view_name": "LayoutView",
            "align_content": null,
            "align_items": null,
            "align_self": null,
            "border": null,
            "bottom": null,
            "display": null,
            "flex": null,
            "flex_flow": null,
            "grid_area": null,
            "grid_auto_columns": null,
            "grid_auto_flow": null,
            "grid_auto_rows": null,
            "grid_column": null,
            "grid_gap": null,
            "grid_row": null,
            "grid_template_areas": null,
            "grid_template_columns": null,
            "grid_template_rows": null,
            "height": null,
            "justify_content": null,
            "justify_items": null,
            "left": null,
            "margin": null,
            "max_height": null,
            "max_width": null,
            "min_height": null,
            "min_width": null,
            "object_fit": null,
            "object_position": null,
            "order": null,
            "overflow": null,
            "overflow_x": null,
            "overflow_y": null,
            "padding": null,
            "right": null,
            "top": null,
            "visibility": null,
            "width": null
          }
        },
        "636e137721c14a259272bc6b51d2e557": {
          "model_module": "@jupyter-widgets/controls",
          "model_module_version": "1.5.0",
          "model_name": "HBoxModel",
          "state": {
            "_dom_classes": [],
            "_model_module": "@jupyter-widgets/controls",
            "_model_module_version": "1.5.0",
            "_model_name": "HBoxModel",
            "_view_count": null,
            "_view_module": "@jupyter-widgets/controls",
            "_view_module_version": "1.5.0",
            "_view_name": "HBoxView",
            "box_style": "",
            "children": [
              "IPY_MODEL_f9c1b66eb11940dbb5dd6192e73404a9",
              "IPY_MODEL_d43a94d75f2644b494b820227907b549",
              "IPY_MODEL_f3ec6839ea2146fbaca3f848ca30a93d"
            ],
            "layout": "IPY_MODEL_acb63d50913840d298f2749827e7b8f7"
          }
        },
        "67a2b00e5f5e481e945b77811fabbcce": {
          "model_module": "@jupyter-widgets/base",
          "model_module_version": "1.2.0",
          "model_name": "LayoutModel",
          "state": {
            "_model_module": "@jupyter-widgets/base",
            "_model_module_version": "1.2.0",
            "_model_name": "LayoutModel",
            "_view_count": null,
            "_view_module": "@jupyter-widgets/base",
            "_view_module_version": "1.2.0",
            "_view_name": "LayoutView",
            "align_content": null,
            "align_items": null,
            "align_self": null,
            "border": null,
            "bottom": null,
            "display": null,
            "flex": null,
            "flex_flow": null,
            "grid_area": null,
            "grid_auto_columns": null,
            "grid_auto_flow": null,
            "grid_auto_rows": null,
            "grid_column": null,
            "grid_gap": null,
            "grid_row": null,
            "grid_template_areas": null,
            "grid_template_columns": null,
            "grid_template_rows": null,
            "height": null,
            "justify_content": null,
            "justify_items": null,
            "left": null,
            "margin": null,
            "max_height": null,
            "max_width": null,
            "min_height": null,
            "min_width": null,
            "object_fit": null,
            "object_position": null,
            "order": null,
            "overflow": null,
            "overflow_x": null,
            "overflow_y": null,
            "padding": null,
            "right": null,
            "top": null,
            "visibility": null,
            "width": null
          }
        },
        "67ab5b293d664b838ccd4bf184095c87": {
          "model_module": "@jupyter-widgets/controls",
          "model_module_version": "1.5.0",
          "model_name": "ProgressStyleModel",
          "state": {
            "_model_module": "@jupyter-widgets/controls",
            "_model_module_version": "1.5.0",
            "_model_name": "ProgressStyleModel",
            "_view_count": null,
            "_view_module": "@jupyter-widgets/base",
            "_view_module_version": "1.2.0",
            "_view_name": "StyleView",
            "bar_color": null,
            "description_width": ""
          }
        },
        "765f8e85be704b96ac21c6bcd96ad1b8": {
          "model_module": "@jupyter-widgets/base",
          "model_module_version": "1.2.0",
          "model_name": "LayoutModel",
          "state": {
            "_model_module": "@jupyter-widgets/base",
            "_model_module_version": "1.2.0",
            "_model_name": "LayoutModel",
            "_view_count": null,
            "_view_module": "@jupyter-widgets/base",
            "_view_module_version": "1.2.0",
            "_view_name": "LayoutView",
            "align_content": null,
            "align_items": null,
            "align_self": null,
            "border": null,
            "bottom": null,
            "display": null,
            "flex": null,
            "flex_flow": null,
            "grid_area": null,
            "grid_auto_columns": null,
            "grid_auto_flow": null,
            "grid_auto_rows": null,
            "grid_column": null,
            "grid_gap": null,
            "grid_row": null,
            "grid_template_areas": null,
            "grid_template_columns": null,
            "grid_template_rows": null,
            "height": null,
            "justify_content": null,
            "justify_items": null,
            "left": null,
            "margin": null,
            "max_height": null,
            "max_width": null,
            "min_height": null,
            "min_width": null,
            "object_fit": null,
            "object_position": null,
            "order": null,
            "overflow": null,
            "overflow_x": null,
            "overflow_y": null,
            "padding": null,
            "right": null,
            "top": null,
            "visibility": null,
            "width": null
          }
        },
        "77b7da19b70b44099526df2afff72477": {
          "model_module": "@jupyter-widgets/controls",
          "model_module_version": "1.5.0",
          "model_name": "HTMLModel",
          "state": {
            "_dom_classes": [],
            "_model_module": "@jupyter-widgets/controls",
            "_model_module_version": "1.5.0",
            "_model_name": "HTMLModel",
            "_view_count": null,
            "_view_module": "@jupyter-widgets/controls",
            "_view_module_version": "1.5.0",
            "_view_name": "HTMLView",
            "description": "",
            "description_tooltip": null,
            "layout": "IPY_MODEL_50d7754bb2e746c2b6a1edbf90193c6a",
            "placeholder": "​",
            "style": "IPY_MODEL_1b0290b6d4e34d40b2d3e291103be320",
            "value": "Downloading config.json: 100%"
          }
        },
        "7abea991de2b466092ff7a90c4176afd": {
          "model_module": "@jupyter-widgets/controls",
          "model_module_version": "1.5.0",
          "model_name": "FloatProgressModel",
          "state": {
            "_dom_classes": [],
            "_model_module": "@jupyter-widgets/controls",
            "_model_module_version": "1.5.0",
            "_model_name": "FloatProgressModel",
            "_view_count": null,
            "_view_module": "@jupyter-widgets/controls",
            "_view_module_version": "1.5.0",
            "_view_name": "ProgressView",
            "bar_style": "success",
            "description": "",
            "description_tooltip": null,
            "layout": "IPY_MODEL_c1917cdacf2749f3874501a0da43d628",
            "max": 456318,
            "min": 0,
            "orientation": "horizontal",
            "style": "IPY_MODEL_4fc5686bcc8d48169aad4776431bb391",
            "value": 456318
          }
        },
        "7be475ab5132481faaa1ce9fa7f74ae1": {
          "model_module": "@jupyter-widgets/base",
          "model_module_version": "1.2.0",
          "model_name": "LayoutModel",
          "state": {
            "_model_module": "@jupyter-widgets/base",
            "_model_module_version": "1.2.0",
            "_model_name": "LayoutModel",
            "_view_count": null,
            "_view_module": "@jupyter-widgets/base",
            "_view_module_version": "1.2.0",
            "_view_name": "LayoutView",
            "align_content": null,
            "align_items": null,
            "align_self": null,
            "border": null,
            "bottom": null,
            "display": null,
            "flex": null,
            "flex_flow": null,
            "grid_area": null,
            "grid_auto_columns": null,
            "grid_auto_flow": null,
            "grid_auto_rows": null,
            "grid_column": null,
            "grid_gap": null,
            "grid_row": null,
            "grid_template_areas": null,
            "grid_template_columns": null,
            "grid_template_rows": null,
            "height": null,
            "justify_content": null,
            "justify_items": null,
            "left": null,
            "margin": null,
            "max_height": null,
            "max_width": null,
            "min_height": null,
            "min_width": null,
            "object_fit": null,
            "object_position": null,
            "order": null,
            "overflow": null,
            "overflow_x": null,
            "overflow_y": null,
            "padding": null,
            "right": null,
            "top": null,
            "visibility": null,
            "width": null
          }
        },
        "7dd3c86e1eda4d01bcd550ab6a2a15a4": {
          "model_module": "@jupyter-widgets/base",
          "model_module_version": "1.2.0",
          "model_name": "LayoutModel",
          "state": {
            "_model_module": "@jupyter-widgets/base",
            "_model_module_version": "1.2.0",
            "_model_name": "LayoutModel",
            "_view_count": null,
            "_view_module": "@jupyter-widgets/base",
            "_view_module_version": "1.2.0",
            "_view_name": "LayoutView",
            "align_content": null,
            "align_items": null,
            "align_self": null,
            "border": null,
            "bottom": null,
            "display": null,
            "flex": null,
            "flex_flow": null,
            "grid_area": null,
            "grid_auto_columns": null,
            "grid_auto_flow": null,
            "grid_auto_rows": null,
            "grid_column": null,
            "grid_gap": null,
            "grid_row": null,
            "grid_template_areas": null,
            "grid_template_columns": null,
            "grid_template_rows": null,
            "height": null,
            "justify_content": null,
            "justify_items": null,
            "left": null,
            "margin": null,
            "max_height": null,
            "max_width": null,
            "min_height": null,
            "min_width": null,
            "object_fit": null,
            "object_position": null,
            "order": null,
            "overflow": null,
            "overflow_x": null,
            "overflow_y": null,
            "padding": null,
            "right": null,
            "top": null,
            "visibility": null,
            "width": null
          }
        },
        "84bf36ca35314afc95740de52ca3e3f7": {
          "model_module": "@jupyter-widgets/base",
          "model_module_version": "1.2.0",
          "model_name": "LayoutModel",
          "state": {
            "_model_module": "@jupyter-widgets/base",
            "_model_module_version": "1.2.0",
            "_model_name": "LayoutModel",
            "_view_count": null,
            "_view_module": "@jupyter-widgets/base",
            "_view_module_version": "1.2.0",
            "_view_name": "LayoutView",
            "align_content": null,
            "align_items": null,
            "align_self": null,
            "border": null,
            "bottom": null,
            "display": null,
            "flex": null,
            "flex_flow": null,
            "grid_area": null,
            "grid_auto_columns": null,
            "grid_auto_flow": null,
            "grid_auto_rows": null,
            "grid_column": null,
            "grid_gap": null,
            "grid_row": null,
            "grid_template_areas": null,
            "grid_template_columns": null,
            "grid_template_rows": null,
            "height": null,
            "justify_content": null,
            "justify_items": null,
            "left": null,
            "margin": null,
            "max_height": null,
            "max_width": null,
            "min_height": null,
            "min_width": null,
            "object_fit": null,
            "object_position": null,
            "order": null,
            "overflow": null,
            "overflow_x": null,
            "overflow_y": null,
            "padding": null,
            "right": null,
            "top": null,
            "visibility": null,
            "width": null
          }
        },
        "88c759092780450cbe03bbcdba7e0234": {
          "model_module": "@jupyter-widgets/controls",
          "model_module_version": "1.5.0",
          "model_name": "HBoxModel",
          "state": {
            "_dom_classes": [],
            "_model_module": "@jupyter-widgets/controls",
            "_model_module_version": "1.5.0",
            "_model_name": "HBoxModel",
            "_view_count": null,
            "_view_module": "@jupyter-widgets/controls",
            "_view_module_version": "1.5.0",
            "_view_name": "HBoxView",
            "box_style": "",
            "children": [
              "IPY_MODEL_d0fc47e1eae948dfb01b67a9ab32e627",
              "IPY_MODEL_aa7334fe471a4c19b4ee212901a5f768",
              "IPY_MODEL_5fdb246778624f718983073f99b3c795"
            ],
            "layout": "IPY_MODEL_436f77c82dbb4aef9977ca4444a2115f"
          }
        },
        "89902427c1a1401a8ea6b2655e96fb32": {
          "model_module": "@jupyter-widgets/controls",
          "model_module_version": "1.5.0",
          "model_name": "DescriptionStyleModel",
          "state": {
            "_model_module": "@jupyter-widgets/controls",
            "_model_module_version": "1.5.0",
            "_model_name": "DescriptionStyleModel",
            "_view_count": null,
            "_view_module": "@jupyter-widgets/base",
            "_view_module_version": "1.2.0",
            "_view_name": "StyleView",
            "description_width": ""
          }
        },
        "935af261a1fb4dae8f48caf7d07ebfda": {
          "model_module": "@jupyter-widgets/controls",
          "model_module_version": "1.5.0",
          "model_name": "DescriptionStyleModel",
          "state": {
            "_model_module": "@jupyter-widgets/controls",
            "_model_module_version": "1.5.0",
            "_model_name": "DescriptionStyleModel",
            "_view_count": null,
            "_view_module": "@jupyter-widgets/base",
            "_view_module_version": "1.2.0",
            "_view_name": "StyleView",
            "description_width": ""
          }
        },
        "9a5b5dc7d2fa4b088edc3507e86ab4d6": {
          "model_module": "@jupyter-widgets/base",
          "model_module_version": "1.2.0",
          "model_name": "LayoutModel",
          "state": {
            "_model_module": "@jupyter-widgets/base",
            "_model_module_version": "1.2.0",
            "_model_name": "LayoutModel",
            "_view_count": null,
            "_view_module": "@jupyter-widgets/base",
            "_view_module_version": "1.2.0",
            "_view_name": "LayoutView",
            "align_content": null,
            "align_items": null,
            "align_self": null,
            "border": null,
            "bottom": null,
            "display": null,
            "flex": null,
            "flex_flow": null,
            "grid_area": null,
            "grid_auto_columns": null,
            "grid_auto_flow": null,
            "grid_auto_rows": null,
            "grid_column": null,
            "grid_gap": null,
            "grid_row": null,
            "grid_template_areas": null,
            "grid_template_columns": null,
            "grid_template_rows": null,
            "height": null,
            "justify_content": null,
            "justify_items": null,
            "left": null,
            "margin": null,
            "max_height": null,
            "max_width": null,
            "min_height": null,
            "min_width": null,
            "object_fit": null,
            "object_position": null,
            "order": null,
            "overflow": null,
            "overflow_x": null,
            "overflow_y": null,
            "padding": null,
            "right": null,
            "top": null,
            "visibility": null,
            "width": null
          }
        },
        "9f69aadbdfc6414f87ce0e17132d457b": {
          "model_module": "@jupyter-widgets/base",
          "model_module_version": "1.2.0",
          "model_name": "LayoutModel",
          "state": {
            "_model_module": "@jupyter-widgets/base",
            "_model_module_version": "1.2.0",
            "_model_name": "LayoutModel",
            "_view_count": null,
            "_view_module": "@jupyter-widgets/base",
            "_view_module_version": "1.2.0",
            "_view_name": "LayoutView",
            "align_content": null,
            "align_items": null,
            "align_self": null,
            "border": null,
            "bottom": null,
            "display": null,
            "flex": null,
            "flex_flow": null,
            "grid_area": null,
            "grid_auto_columns": null,
            "grid_auto_flow": null,
            "grid_auto_rows": null,
            "grid_column": null,
            "grid_gap": null,
            "grid_row": null,
            "grid_template_areas": null,
            "grid_template_columns": null,
            "grid_template_rows": null,
            "height": null,
            "justify_content": null,
            "justify_items": null,
            "left": null,
            "margin": null,
            "max_height": null,
            "max_width": null,
            "min_height": null,
            "min_width": null,
            "object_fit": null,
            "object_position": null,
            "order": null,
            "overflow": null,
            "overflow_x": null,
            "overflow_y": null,
            "padding": null,
            "right": null,
            "top": null,
            "visibility": null,
            "width": null
          }
        },
        "a34a072e4a4e43d3aa942ab151085ab4": {
          "model_module": "@jupyter-widgets/controls",
          "model_module_version": "1.5.0",
          "model_name": "HTMLModel",
          "state": {
            "_dom_classes": [],
            "_model_module": "@jupyter-widgets/controls",
            "_model_module_version": "1.5.0",
            "_model_name": "HTMLModel",
            "_view_count": null,
            "_view_module": "@jupyter-widgets/controls",
            "_view_module_version": "1.5.0",
            "_view_name": "HTMLView",
            "description": "",
            "description_tooltip": null,
            "layout": "IPY_MODEL_7dd3c86e1eda4d01bcd550ab6a2a15a4",
            "placeholder": "​",
            "style": "IPY_MODEL_935af261a1fb4dae8f48caf7d07ebfda",
            "value": "Downloading merges.txt: 100%"
          }
        },
        "aa7334fe471a4c19b4ee212901a5f768": {
          "model_module": "@jupyter-widgets/controls",
          "model_module_version": "1.5.0",
          "model_name": "FloatProgressModel",
          "state": {
            "_dom_classes": [],
            "_model_module": "@jupyter-widgets/controls",
            "_model_module_version": "1.5.0",
            "_model_name": "FloatProgressModel",
            "_view_count": null,
            "_view_module": "@jupyter-widgets/controls",
            "_view_module_version": "1.5.0",
            "_view_name": "ProgressView",
            "bar_style": "success",
            "description": "",
            "description_tooltip": null,
            "layout": "IPY_MODEL_62ab743a616c4f0d8ce5bb8463218567",
            "max": 898823,
            "min": 0,
            "orientation": "horizontal",
            "style": "IPY_MODEL_67ab5b293d664b838ccd4bf184095c87",
            "value": 898823
          }
        },
        "acb63d50913840d298f2749827e7b8f7": {
          "model_module": "@jupyter-widgets/base",
          "model_module_version": "1.2.0",
          "model_name": "LayoutModel",
          "state": {
            "_model_module": "@jupyter-widgets/base",
            "_model_module_version": "1.2.0",
            "_model_name": "LayoutModel",
            "_view_count": null,
            "_view_module": "@jupyter-widgets/base",
            "_view_module_version": "1.2.0",
            "_view_name": "LayoutView",
            "align_content": null,
            "align_items": null,
            "align_self": null,
            "border": null,
            "bottom": null,
            "display": null,
            "flex": null,
            "flex_flow": null,
            "grid_area": null,
            "grid_auto_columns": null,
            "grid_auto_flow": null,
            "grid_auto_rows": null,
            "grid_column": null,
            "grid_gap": null,
            "grid_row": null,
            "grid_template_areas": null,
            "grid_template_columns": null,
            "grid_template_rows": null,
            "height": null,
            "justify_content": null,
            "justify_items": null,
            "left": null,
            "margin": null,
            "max_height": null,
            "max_width": null,
            "min_height": null,
            "min_width": null,
            "object_fit": null,
            "object_position": null,
            "order": null,
            "overflow": null,
            "overflow_x": null,
            "overflow_y": null,
            "padding": null,
            "right": null,
            "top": null,
            "visibility": null,
            "width": null
          }
        },
        "b5e8f75832734de89f540a49304607ce": {
          "model_module": "@jupyter-widgets/controls",
          "model_module_version": "1.5.0",
          "model_name": "HBoxModel",
          "state": {
            "_dom_classes": [],
            "_model_module": "@jupyter-widgets/controls",
            "_model_module_version": "1.5.0",
            "_model_name": "HBoxModel",
            "_view_count": null,
            "_view_module": "@jupyter-widgets/controls",
            "_view_module_version": "1.5.0",
            "_view_name": "HBoxView",
            "box_style": "",
            "children": [
              "IPY_MODEL_77b7da19b70b44099526df2afff72477",
              "IPY_MODEL_13d593c93999453da3254cbcae4db402",
              "IPY_MODEL_2813ca6eb48d4aafb4b2963a7b091a10"
            ],
            "layout": "IPY_MODEL_67a2b00e5f5e481e945b77811fabbcce"
          }
        },
        "bcd4101fdbbc4bb89706db893717a325": {
          "model_module": "@jupyter-widgets/controls",
          "model_module_version": "1.5.0",
          "model_name": "ProgressStyleModel",
          "state": {
            "_model_module": "@jupyter-widgets/controls",
            "_model_module_version": "1.5.0",
            "_model_name": "ProgressStyleModel",
            "_view_count": null,
            "_view_module": "@jupyter-widgets/base",
            "_view_module_version": "1.2.0",
            "_view_name": "StyleView",
            "bar_color": null,
            "description_width": ""
          }
        },
        "c03ab699c252434cac68b5a8c42fc1ae": {
          "model_module": "@jupyter-widgets/base",
          "model_module_version": "1.2.0",
          "model_name": "LayoutModel",
          "state": {
            "_model_module": "@jupyter-widgets/base",
            "_model_module_version": "1.2.0",
            "_model_name": "LayoutModel",
            "_view_count": null,
            "_view_module": "@jupyter-widgets/base",
            "_view_module_version": "1.2.0",
            "_view_name": "LayoutView",
            "align_content": null,
            "align_items": null,
            "align_self": null,
            "border": null,
            "bottom": null,
            "display": null,
            "flex": null,
            "flex_flow": null,
            "grid_area": null,
            "grid_auto_columns": null,
            "grid_auto_flow": null,
            "grid_auto_rows": null,
            "grid_column": null,
            "grid_gap": null,
            "grid_row": null,
            "grid_template_areas": null,
            "grid_template_columns": null,
            "grid_template_rows": null,
            "height": null,
            "justify_content": null,
            "justify_items": null,
            "left": null,
            "margin": null,
            "max_height": null,
            "max_width": null,
            "min_height": null,
            "min_width": null,
            "object_fit": null,
            "object_position": null,
            "order": null,
            "overflow": null,
            "overflow_x": null,
            "overflow_y": null,
            "padding": null,
            "right": null,
            "top": null,
            "visibility": null,
            "width": null
          }
        },
        "c1917cdacf2749f3874501a0da43d628": {
          "model_module": "@jupyter-widgets/base",
          "model_module_version": "1.2.0",
          "model_name": "LayoutModel",
          "state": {
            "_model_module": "@jupyter-widgets/base",
            "_model_module_version": "1.2.0",
            "_model_name": "LayoutModel",
            "_view_count": null,
            "_view_module": "@jupyter-widgets/base",
            "_view_module_version": "1.2.0",
            "_view_name": "LayoutView",
            "align_content": null,
            "align_items": null,
            "align_self": null,
            "border": null,
            "bottom": null,
            "display": null,
            "flex": null,
            "flex_flow": null,
            "grid_area": null,
            "grid_auto_columns": null,
            "grid_auto_flow": null,
            "grid_auto_rows": null,
            "grid_column": null,
            "grid_gap": null,
            "grid_row": null,
            "grid_template_areas": null,
            "grid_template_columns": null,
            "grid_template_rows": null,
            "height": null,
            "justify_content": null,
            "justify_items": null,
            "left": null,
            "margin": null,
            "max_height": null,
            "max_width": null,
            "min_height": null,
            "min_width": null,
            "object_fit": null,
            "object_position": null,
            "order": null,
            "overflow": null,
            "overflow_x": null,
            "overflow_y": null,
            "padding": null,
            "right": null,
            "top": null,
            "visibility": null,
            "width": null
          }
        },
        "cd995bcf275a49b890da9a2afc4a0e51": {
          "model_module": "@jupyter-widgets/controls",
          "model_module_version": "1.5.0",
          "model_name": "DescriptionStyleModel",
          "state": {
            "_model_module": "@jupyter-widgets/controls",
            "_model_module_version": "1.5.0",
            "_model_name": "DescriptionStyleModel",
            "_view_count": null,
            "_view_module": "@jupyter-widgets/base",
            "_view_module_version": "1.2.0",
            "_view_name": "StyleView",
            "description_width": ""
          }
        },
        "d0fc47e1eae948dfb01b67a9ab32e627": {
          "model_module": "@jupyter-widgets/controls",
          "model_module_version": "1.5.0",
          "model_name": "HTMLModel",
          "state": {
            "_dom_classes": [],
            "_model_module": "@jupyter-widgets/controls",
            "_model_module_version": "1.5.0",
            "_model_name": "HTMLModel",
            "_view_count": null,
            "_view_module": "@jupyter-widgets/controls",
            "_view_module_version": "1.5.0",
            "_view_name": "HTMLView",
            "description": "",
            "description_tooltip": null,
            "layout": "IPY_MODEL_ddccf02489394ca58c68b063258fca41",
            "placeholder": "​",
            "style": "IPY_MODEL_fc9928229b344ac38fb1cf93aec411cc",
            "value": "Downloading vocab.json: 100%"
          }
        },
        "d43a94d75f2644b494b820227907b549": {
          "model_module": "@jupyter-widgets/controls",
          "model_module_version": "1.5.0",
          "model_name": "FloatProgressModel",
          "state": {
            "_dom_classes": [],
            "_model_module": "@jupyter-widgets/controls",
            "_model_module_version": "1.5.0",
            "_model_name": "FloatProgressModel",
            "_view_count": null,
            "_view_module": "@jupyter-widgets/controls",
            "_view_module_version": "1.5.0",
            "_view_name": "ProgressView",
            "bar_style": "success",
            "description": "",
            "description_tooltip": null,
            "layout": "IPY_MODEL_9f69aadbdfc6414f87ce0e17132d457b",
            "max": 1625270765,
            "min": 0,
            "orientation": "horizontal",
            "style": "IPY_MODEL_0313c58cea73437d9e2d35a53030f182",
            "value": 1625270765
          }
        },
        "ddccf02489394ca58c68b063258fca41": {
          "model_module": "@jupyter-widgets/base",
          "model_module_version": "1.2.0",
          "model_name": "LayoutModel",
          "state": {
            "_model_module": "@jupyter-widgets/base",
            "_model_module_version": "1.2.0",
            "_model_name": "LayoutModel",
            "_view_count": null,
            "_view_module": "@jupyter-widgets/base",
            "_view_module_version": "1.2.0",
            "_view_name": "LayoutView",
            "align_content": null,
            "align_items": null,
            "align_self": null,
            "border": null,
            "bottom": null,
            "display": null,
            "flex": null,
            "flex_flow": null,
            "grid_area": null,
            "grid_auto_columns": null,
            "grid_auto_flow": null,
            "grid_auto_rows": null,
            "grid_column": null,
            "grid_gap": null,
            "grid_row": null,
            "grid_template_areas": null,
            "grid_template_columns": null,
            "grid_template_rows": null,
            "height": null,
            "justify_content": null,
            "justify_items": null,
            "left": null,
            "margin": null,
            "max_height": null,
            "max_width": null,
            "min_height": null,
            "min_width": null,
            "object_fit": null,
            "object_position": null,
            "order": null,
            "overflow": null,
            "overflow_x": null,
            "overflow_y": null,
            "padding": null,
            "right": null,
            "top": null,
            "visibility": null,
            "width": null
          }
        },
        "ea264b4c56724cf890dd023f7eb286a8": {
          "model_module": "@jupyter-widgets/controls",
          "model_module_version": "1.5.0",
          "model_name": "HTMLModel",
          "state": {
            "_dom_classes": [],
            "_model_module": "@jupyter-widgets/controls",
            "_model_module_version": "1.5.0",
            "_model_name": "HTMLModel",
            "_view_count": null,
            "_view_module": "@jupyter-widgets/controls",
            "_view_module_version": "1.5.0",
            "_view_name": "HTMLView",
            "description": "",
            "description_tooltip": null,
            "layout": "IPY_MODEL_765f8e85be704b96ac21c6bcd96ad1b8",
            "placeholder": "​",
            "style": "IPY_MODEL_46024cfd42834f86b213b50ba4b8fbdd",
            "value": " 446k/446k [00:01&lt;00:00, 512kB/s]"
          }
        },
        "f3ec6839ea2146fbaca3f848ca30a93d": {
          "model_module": "@jupyter-widgets/controls",
          "model_module_version": "1.5.0",
          "model_name": "HTMLModel",
          "state": {
            "_dom_classes": [],
            "_model_module": "@jupyter-widgets/controls",
            "_model_module_version": "1.5.0",
            "_model_name": "HTMLModel",
            "_view_count": null,
            "_view_module": "@jupyter-widgets/controls",
            "_view_module_version": "1.5.0",
            "_view_name": "HTMLView",
            "description": "",
            "description_tooltip": null,
            "layout": "IPY_MODEL_57f3ec88a76045069d5325f1c371ae7f",
            "placeholder": "​",
            "style": "IPY_MODEL_89902427c1a1401a8ea6b2655e96fb32",
            "value": " 1.51G/1.51G [00:28&lt;00:00, 56.3MB/s]"
          }
        },
        "f9c1b66eb11940dbb5dd6192e73404a9": {
          "model_module": "@jupyter-widgets/controls",
          "model_module_version": "1.5.0",
          "model_name": "HTMLModel",
          "state": {
            "_dom_classes": [],
            "_model_module": "@jupyter-widgets/controls",
            "_model_module_version": "1.5.0",
            "_model_name": "HTMLModel",
            "_view_count": null,
            "_view_module": "@jupyter-widgets/controls",
            "_view_module_version": "1.5.0",
            "_view_name": "HTMLView",
            "description": "",
            "description_tooltip": null,
            "layout": "IPY_MODEL_7be475ab5132481faaa1ce9fa7f74ae1",
            "placeholder": "​",
            "style": "IPY_MODEL_cd995bcf275a49b890da9a2afc4a0e51",
            "value": "Downloading pytorch_model.bin: 100%"
          }
        },
        "fb49ea04d62b4bbbabfef21f95e5ff73": {
          "model_module": "@jupyter-widgets/controls",
          "model_module_version": "1.5.0",
          "model_name": "DescriptionStyleModel",
          "state": {
            "_model_module": "@jupyter-widgets/controls",
            "_model_module_version": "1.5.0",
            "_model_name": "DescriptionStyleModel",
            "_view_count": null,
            "_view_module": "@jupyter-widgets/base",
            "_view_module_version": "1.2.0",
            "_view_name": "StyleView",
            "description_width": ""
          }
        },
        "fc9928229b344ac38fb1cf93aec411cc": {
          "model_module": "@jupyter-widgets/controls",
          "model_module_version": "1.5.0",
          "model_name": "DescriptionStyleModel",
          "state": {
            "_model_module": "@jupyter-widgets/controls",
            "_model_module_version": "1.5.0",
            "_model_name": "DescriptionStyleModel",
            "_view_count": null,
            "_view_module": "@jupyter-widgets/base",
            "_view_module_version": "1.2.0",
            "_view_name": "StyleView",
            "description_width": ""
          }
        }
      }
    }
  },
  "nbformat": 4,
  "nbformat_minor": 0
}